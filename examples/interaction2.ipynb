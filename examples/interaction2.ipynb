{
 "cells": [
  {
   "cell_type": "markdown",
   "id": "28b38e38",
   "metadata": {},
   "source": [
    "# Interactive drawing example\n",
    "\n",
    "A simple drawing app:\n",
    "\n",
    "* Draw dots by clicking with LMB.\n",
    "* Toggle color by clicking RMB."
   ]
  },
  {
   "cell_type": "code",
   "execution_count": 1,
   "id": "47315bf0",
   "metadata": {},
   "outputs": [],
   "source": [
    "import numpy as np\n",
    "import jupyter_rfb"
   ]
  },
  {
   "cell_type": "code",
   "execution_count": 2,
   "id": "fb037e0b",
   "metadata": {},
   "outputs": [
    {
     "data": {
      "application/vnd.jupyter.widget-view+json": {
       "model_id": "0bc10eb1b4bb45bda14904707df37f06",
       "version_major": 2,
       "version_minor": 0
      },
      "text/plain": [
       "RFBOutputContext()"
      ]
     },
     "metadata": {},
     "output_type": "display_data"
    },
    {
     "data": {
      "text/html": [
       "<div class='initial-snapshot-b1775b89f4894fc899d256e88bdfbd6a' style='position:relative;'><img src='data:image/png;base64,iVBORw0KGgoAAAANSUhEUgAAAEsAAAAyCAYAAAAUYybjAAAAgklEQVR42u3QMQ0AMAzAsD7jT3kUmmuaZCOIMoe1eR3wE7MCswKzArMCswKzArMCswKzArMCswKzArMCswKzArMCswKzArMCswKzArMCswKzArMCswKzArMCswKzArMCswKzArMCswKzArMCswKzArMCswKzArMCswKzArMCswKzggvhTSUIuk8bfAAAAABJRU5ErkJggg==' style='width:600.0px;height:400.0px;' /><div style='position: absolute; top:0; left:0; padding:1px 3px; background: #777; color:#fff; font-size: 90%; font-family:sans-serif; '>initial snapshot</div></div>"
      ],
      "text/plain": [
       "<jupyter_rfb._utils.Snapshot object>"
      ]
     },
     "metadata": {},
     "output_type": "display_data"
    },
    {
     "data": {
      "application/vnd.jupyter.widget-view+json": {
       "model_id": "b1775b89f4894fc899d256e88bdfbd6a",
       "version_major": 2,
       "version_minor": 0
      },
      "text/plain": [
       "Drawingapp(css_height='400px', css_width='600px', resizable=False)"
      ]
     },
     "execution_count": 2,
     "metadata": {},
     "output_type": "execute_result"
    }
   ],
   "source": [
    "class Drawingapp(jupyter_rfb.RemoteFrameBuffer):\n",
    "    \n",
    "    def __init__(self):\n",
    "        super().__init__()\n",
    "        self.pixel_ratio = 1 / 8\n",
    "        w, h = 600, 400\n",
    "        self.css_width = f\"{w}px\"\n",
    "        self.css_height = f\"{h}px\"\n",
    "        self.resizable = False\n",
    "        self.array = np.ones((int(h*self.pixel_ratio), int(w*self.pixel_ratio), 4), np.uint8) * 5\n",
    "        self.pen_colors = [(1, 0.2, 0, 1), (0, 1, 0.2, 1), (0.2, 0, 1, 1)]\n",
    "        self.pen_index = 0        \n",
    "    \n",
    "    def handle_event(self, event):\n",
    "        event_type = event.get(\"event_type\", None)\n",
    "        if event_type == \"pointer_down\":\n",
    "            if event[\"button\"] == 1:\n",
    "                # Draw\n",
    "                x = int(event[\"x\"] * self.pixel_ratio)\n",
    "                y = int(event[\"y\"] * self.pixel_ratio)\n",
    "                self.array[y, x] = 255 * np.array(self.pen_colors[self.pen_index])\n",
    "                self.request_draw()\n",
    "            elif event[\"button\"] == 2:\n",
    "                # Toggle color\n",
    "                self.pen_index = (self.pen_index + 1) % len(self.pen_colors)\n",
    "    \n",
    "    def get_frame(self):\n",
    "        return self.array\n",
    "        \n",
    "\n",
    "app = Drawingapp()\n",
    "app"
   ]
  },
  {
   "cell_type": "markdown",
   "id": "4efdc5dc",
   "metadata": {},
   "source": [
    "After some clicking ..."
   ]
  },
  {
   "cell_type": "code",
   "execution_count": 3,
   "id": "1f6c0ab9",
   "metadata": {},
   "outputs": [],
   "source": [
    "# We can also generate some clicks programatically :)\n",
    "for x, y in [(503, 37), (27, 182), (182, 383), (396, 235), (477, 151), (328, 308), (281, 16)]:\n",
    "    app.handle_event({\"event_type\": \"pointer_down\", \"button\": 1, \"x\": x, \"y\": y})\n",
    "app.handle_event({\"event_type\": \"pointer_down\", \"button\": 2, \"x\": 0, \"y\": 0})\n",
    "for x, y in [(226, 115), (135, 253), (351, 220), (57, 11), (345, 87), (67, 175), (559, 227)]:\n",
    "    app.handle_event({\"event_type\": \"pointer_down\", \"button\": 1, \"x\": x, \"y\": y})"
   ]
  },
  {
   "cell_type": "code",
   "execution_count": 4,
   "id": "c9b1a03d",
   "metadata": {},
   "outputs": [
    {
     "data": {
      "text/html": [
       "<div class='snapshot-b1775b89f4894fc899d256e88bdfbd6a' style='position:relative;'><img src='data:image/png;base64,iVBORw0KGgoAAAANSUhEUgAAAEsAAAAyCAYAAAAUYybjAAAA1klEQVR42u3YQQ6DIBBAUTY9kfc/G667aOsXyszIf1sTQ74IhPbSZe3rw3706AFm0sZfMU8/WuqPkypWdtvGujOLt411h7EAYwHGAowFlIoVfUguFSuasQBjActjRa87Q2OPHkAlxgKMBWwVa/S+bKtYo4wF/IxVeauf7S1W9jvwaP6GgLEAYwHGAkrFit6ZS8Va5dNHeUSsVUeeR8RaZThW9DqykjMLMBZgLMBYgLEAYwElYmW5ZysRKwtjAcYCjAUYCzAWYCzAWMDfYmU5SM7kzAKMBZyO60KemiDsWwAAAABJRU5ErkJggg==' style='width:600.0px;height:400.0px;' /><div style='position: absolute; top:0; left:0; padding:1px 3px; background: #777; color:#fff; font-size: 90%; font-family:sans-serif; '>snapshot</div></div>"
      ],
      "text/plain": [
       "<jupyter_rfb._utils.Snapshot object>"
      ]
     },
     "execution_count": 4,
     "metadata": {},
     "output_type": "execute_result"
    }
   ],
   "source": [
    "app.snapshot()"
   ]
  },
  {
   "cell_type": "code",
   "execution_count": 5,
   "id": "f48342b8",
   "metadata": {},
   "outputs": [],
   "source": [
    "app.request_draw()"
   ]
  },
  {
   "cell_type": "code",
   "execution_count": null,
   "id": "94b13fdc",
   "metadata": {},
   "outputs": [],
   "source": []
  }
 ],
 "metadata": {
  "kernelspec": {
   "display_name": "Python 3",
   "language": "python",
   "name": "python3"
  },
  "language_info": {
   "codemirror_mode": {
    "name": "ipython",
    "version": 3
   },
   "file_extension": ".py",
   "mimetype": "text/x-python",
   "name": "python",
   "nbconvert_exporter": "python",
   "pygments_lexer": "ipython3",
   "version": "3.9.1"
  }
 },
 "nbformat": 4,
 "nbformat_minor": 5
}
