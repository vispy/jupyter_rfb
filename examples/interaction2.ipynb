{
 "cells": [
  {
   "cell_type": "markdown",
   "id": "28b38e38",
   "metadata": {},
   "source": [
    "# Interactive drawing example\n",
    "\n",
    "A simple drawing app:\n",
    "\n",
    "* Draw dots by clicking with LMB.\n",
    "* Toggle color by clicking RMB."
   ]
  },
  {
   "cell_type": "code",
   "execution_count": 1,
   "id": "47315bf0",
   "metadata": {},
   "outputs": [],
   "source": [
    "import numpy as np\n",
    "import jupyter_rfb"
   ]
  },
  {
   "cell_type": "code",
   "execution_count": 2,
   "id": "fb037e0b",
   "metadata": {},
   "outputs": [
    {
     "data": {
      "application/vnd.jupyter.widget-view+json": {
       "model_id": "744ff504fa54418595b046b6c158a086",
       "version_major": 2,
       "version_minor": 0
      },
      "text/plain": [
       "RFBOutputContext()"
      ]
     },
     "metadata": {},
     "output_type": "display_data"
    },
    {
     "data": {
      "text/html": [
       "<div class='initial-snapshot-9e4457b607a84314803a6a67433e369d' style='position:relative;'><img src='data:image/png;base64,iVBORw0KGgoAAAANSUhEUgAAAFcAAAAyCAYAAAAp8UeFAAAAh0lEQVR42u3QQQkAMAzAwH7m33JVHIOSUxAyL8z8DrisuVBzoeZCzYWaCzUXai7UXKi5UHOh5kLNhZoLNRdqLtRcqLlQc6HmQs2Fmgs1F2ou1FyouVBzoeZCzYWaCzUXai7UXKi5UHOh5kLNhZoLNRdqLtRcqLlQc6HmQs2Fmgs1F2ou1FxoAXuxU+j+YcuOAAAAAElFTkSuQmCC' style='width:700.0px;height:400.0px;' /><div style='position: absolute; top:0; left:0; padding:1px 3px; background: #777; color:#fff; font-size: 90%; font-family:sans-serif; '>initial snapshot</div></div>"
      ],
      "text/plain": [
       "<jupyter_rfb._utils.Snapshot object>"
      ]
     },
     "metadata": {},
     "output_type": "display_data"
    },
    {
     "data": {
      "application/vnd.jupyter.widget-view+json": {
       "model_id": "9e4457b607a84314803a6a67433e369d",
       "version_major": 2,
       "version_minor": 0
      },
      "text/plain": [
       "Drawingapp(css_height='400px', css_width='700px')"
      ]
     },
     "execution_count": 2,
     "metadata": {},
     "output_type": "execute_result"
    }
   ],
   "source": [
    "class Drawingapp(jupyter_rfb.RemoteFrameBuffer):\n",
    "    \n",
    "    def __init__(self):\n",
    "        super().__init__()\n",
    "        self.css_width = \"700px\"\n",
    "        self.css_height = \"400px\"\n",
    "        self.pixel_ratio = 1\n",
    "        self.array = np.zeros((1, 1, 4), np.uint8)\n",
    "        self.pen_colors = [(1, 0.2, 0, 1), (0, 1, 0.2, 1), (0.2, 0, 1, 1)]\n",
    "        self.pen_index = 0        \n",
    "    \n",
    "    def handle_event(self, event):\n",
    "        event_type = event.get(\"event_type\", None)\n",
    "        if event_type == \"resize\":\n",
    "            # Take pixel ratio into account, use 8x less pixels (in each dim)\n",
    "            self.pixel_ratio = event[\"pixel_ratio\"] / 8\n",
    "            w = int(event[\"width\"] * self.pixel_ratio)\n",
    "            h = int(event[\"height\"] * self.pixel_ratio)\n",
    "            self.array = np.ones((h, w, 4), np.uint8) * 5\n",
    "        if event_type == \"pointer_down\":\n",
    "            if event[\"button\"] == 1:\n",
    "                # Draw\n",
    "                x = int(event[\"x\"] * self.pixel_ratio)\n",
    "                y = int(event[\"y\"] * self.pixel_ratio)\n",
    "                self.array[y, x] = 255 * np.array(self.pen_colors[self.pen_index])\n",
    "                self.request_draw()\n",
    "            elif event[\"button\"] == 2:\n",
    "                # Toggle color\n",
    "                self.pen_index = (self.pen_index + 1) % len(self.pen_colors)\n",
    "    \n",
    "    def get_frame(self):\n",
    "        return self.array\n",
    "        \n",
    "\n",
    "app = Drawingapp()\n",
    "app"
   ]
  },
  {
   "cell_type": "markdown",
   "id": "4efdc5dc",
   "metadata": {},
   "source": [
    "After some clicking ..."
   ]
  },
  {
   "cell_type": "code",
   "execution_count": 3,
   "id": "c9b1a03d",
   "metadata": {},
   "outputs": [
    {
     "data": {
      "text/html": [
       "<div class='snapshot-9e4457b607a84314803a6a67433e369d' style='position:relative;'><img src='data:image/png;base64,iVBORw0KGgoAAAANSUhEUgAAAFcAAAAyCAYAAAAp8UeFAAAA60lEQVR42u3bwRXCIBAAUS6pKP3XRrzokSAyslnmV4CTdZOXp+UQpqw+QGa3cc9S6+pDPpWTCzIuyLign+KWerqPG5pxM9zMVn4G18KA3gtmXJBxQX+PW1/fqeaBEt0knVyQcUHG7TC6qraIe7fnKV/FXXXIp9piclcxLmhq3EzPqDM4uaAwcTNOfZi4GRkXZFyQcUHGBRm308jTzFBc3zH0cXJBxgWFjZth9YSNm0HKuFHeU6SMG4VxQcYFTYsbZc9F4uSCjAsyLsi4oE/cDD/Rj8bJBRkX8N4CQ3F3XyH+4SQA44KMCzIu6AL7lIBJoGRwjQAAAABJRU5ErkJggg==' style='width:700px;height:400px;' /><div style='position: absolute; top:0; left:0; padding:1px 3px; background: #777; color:#fff; font-size: 90%; font-family:sans-serif; '>snapshot</div></div>"
      ],
      "text/plain": [
       "<jupyter_rfb._utils.Snapshot object>"
      ]
     },
     "execution_count": 3,
     "metadata": {},
     "output_type": "execute_result"
    }
   ],
   "source": [
    "app.snapshot()"
   ]
  },
  {
   "cell_type": "code",
   "execution_count": null,
   "id": "4fffa8d4",
   "metadata": {},
   "outputs": [],
   "source": []
  }
 ],
 "metadata": {
  "kernelspec": {
   "display_name": "Python 3",
   "language": "python",
   "name": "python3"
  },
  "language_info": {
   "codemirror_mode": {
    "name": "ipython",
    "version": 3
   },
   "file_extension": ".py",
   "mimetype": "text/x-python",
   "name": "python",
   "nbconvert_exporter": "python",
   "pygments_lexer": "ipython3",
   "version": "3.9.1"
  }
 },
 "nbformat": 4,
 "nbformat_minor": 5
}
