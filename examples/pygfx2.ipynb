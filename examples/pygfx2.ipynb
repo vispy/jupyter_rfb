{
 "cells": [
  {
   "cell_type": "markdown",
   "id": "95b4836d",
   "metadata": {},
   "source": [
    "# PyGfx points and lines example\n",
    "\n",
    "**Note that this example depends on pygfx (`pip install -U pygfx`).**\n",
    "\n",
    "An example demonstrating points and lines, in two separate canvases."
   ]
  },
  {
   "cell_type": "code",
   "execution_count": null,
   "id": "8e9b85e0",
   "metadata": {},
   "outputs": [],
   "source": [
    "import numpy as np\n",
    "import pygfx as gfx\n",
    "from wgpu.gui.jupyter import WgpuCanvas"
   ]
  },
  {
   "cell_type": "code",
   "execution_count": null,
   "id": "b912bb67",
   "metadata": {},
   "outputs": [],
   "source": [
    "canvas1 = WgpuCanvas()\n",
    "renderer1 = gfx.WgpuRenderer(canvas1)\n",
    "\n",
    "scene1 = gfx.Scene()\n",
    "\n",
    "x = np.linspace(20, 620, 200, dtype=np.float32)\n",
    "y = np.sin(x / 10) * 100 + 200\n",
    "\n",
    "positions = np.column_stack([x, y, np.zeros_like(x)])\n",
    "colors = np.random.uniform(0, 1, (x.size, 4)).astype(np.float32)\n",
    "geometry = gfx.Geometry(positions=positions, colors=colors)\n",
    "\n",
    "\n",
    "# Also see LineSegmentMaterial and LineThinSegmentMaterial\n",
    "material = gfx.LineSegmentMaterial(\n",
    "    thickness=6.0, color=(0.0, 0.7, 0.3, 0.5), vertex_colors=True\n",
    ")\n",
    "line = gfx.Line(geometry, material)\n",
    "scene1.add(line)\n",
    "\n",
    "camera1 = gfx.ScreenCoordsCamera()\n",
    "\n",
    "canvas1.request_draw(lambda: renderer1.render(scene1, camera1))\n",
    "canvas1"
   ]
  },
  {
   "cell_type": "code",
   "execution_count": null,
   "id": "658ad769",
   "metadata": {},
   "outputs": [],
   "source": [
    "canvas2 = WgpuCanvas()\n",
    "renderer2 = gfx.WgpuRenderer(canvas2)\n",
    "\n",
    "scene2 = gfx.Scene()\n",
    "\n",
    "positions = np.random.normal(0, 0.5, (100, 3)).astype(np.float32)\n",
    "geometry = gfx.Geometry(positions=positions)\n",
    "\n",
    "material = gfx.PointsMaterial(size=10, color=(0, 1, 0.5, 0.7))\n",
    "points = gfx.Points(geometry, material)\n",
    "scene2.add(points)\n",
    "scene2.add(gfx.Background(gfx.BackgroundMaterial((0.2, 0.0, 0, 1), (0, 0.0, 0.2, 1))))\n",
    "\n",
    "camera2 = gfx.NDCCamera()\n",
    "\n",
    "canvas2.request_draw(lambda: renderer2.render(scene2, camera2))\n",
    "canvas2"
   ]
  },
  {
   "cell_type": "code",
   "execution_count": null,
   "id": "5db8f882",
   "metadata": {},
   "outputs": [],
   "source": []
  }
 ],
 "metadata": {
  "kernelspec": {
   "display_name": "Python 3",
   "language": "python",
   "name": "python3"
  },
  "language_info": {
   "codemirror_mode": {
    "name": "ipython",
    "version": 3
   },
   "file_extension": ".py",
   "mimetype": "text/x-python",
   "name": "python",
   "nbconvert_exporter": "python",
   "pygments_lexer": "ipython3",
   "version": "3.9.1"
  }
 },
 "nbformat": 4,
 "nbformat_minor": 5
}
