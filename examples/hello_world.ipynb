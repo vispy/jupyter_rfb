{
 "cells": [
  {
   "cell_type": "markdown",
   "id": "f6315c1a",
   "metadata": {},
   "source": [
    "# Simple hello world example\n",
    "In this example we create an RFB widget. Then we create a numpy RGB array and push it to the widget."
   ]
  },
  {
   "cell_type": "code",
   "execution_count": null,
   "id": "eb328d8f",
   "metadata": {},
   "outputs": [],
   "source": [
    "import numpy as np\n",
    "import jupyter_rfb"
   ]
  },
  {
   "cell_type": "code",
   "execution_count": null,
   "id": "7691480a",
   "metadata": {},
   "outputs": [],
   "source": [
    "class HelloWorld1(jupyter_rfb.RemoteFrameBuffer):\n",
    "    \"\"\" A simple example drawing a 100x100 image depicting a green rectangle with a black edge. \"\"\"\n",
    "\n",
    "    def get_frame(self):\n",
    "        a = np.zeros((100, 100, 3), np.uint8)\n",
    "        a[20:-20,20:-20,1] = 255\n",
    "        return a\n",
    "\n",
    "w = HelloWorld1()\n",
    "w"
   ]
  },
  {
   "cell_type": "code",
   "execution_count": null,
   "id": "45578bd6",
   "metadata": {},
   "outputs": [],
   "source": [
    "class HelloWorld2(jupyter_rfb.RemoteFrameBuffer):\n",
    "    \"\"\" An example that takes the size of the widget (including zoom/high-res) into account. \"\"\"\n",
    "    \n",
    "    def handle_event(self, event):\n",
    "        if event[\"event_type\"] == \"resize\":\n",
    "            self._size = event\n",
    "        \n",
    "    def get_frame(self):\n",
    "        w, h, r = self._size[\"width\"], self._size[\"height\"], self._size[\"pixel_ratio\"]\n",
    "        physical_size = int(h*r), int(w*r)\n",
    "        a = np.zeros((physical_size[0], physical_size[1], 3), np.uint8)\n",
    "        margin = int(20 * r)\n",
    "        a[margin:-margin,margin:-margin,1] = 255\n",
    "        return a\n",
    "\n",
    "w = HelloWorld2()\n",
    "w"
   ]
  }
 ],
 "metadata": {
  "kernelspec": {
   "display_name": "Python 3",
   "language": "python",
   "name": "python3"
  },
  "language_info": {
   "codemirror_mode": {
    "name": "ipython",
    "version": 3
   },
   "file_extension": ".py",
   "mimetype": "text/x-python",
   "name": "python",
   "nbconvert_exporter": "python",
   "pygments_lexer": "ipython3",
   "version": "3.9.1"
  }
 },
 "nbformat": 4,
 "nbformat_minor": 5
}
