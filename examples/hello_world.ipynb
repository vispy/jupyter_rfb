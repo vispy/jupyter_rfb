{
 "cells": [
  {
   "cell_type": "markdown",
   "id": "f6315c1a",
   "metadata": {},
   "source": [
    "# Simple hello world example\n",
    "In this example we create an RFB widget. Then we create a numpy RGB array and push it to the widget."
   ]
  },
  {
   "cell_type": "code",
   "execution_count": null,
   "id": "7691480a",
   "metadata": {},
   "outputs": [],
   "source": [
    "import numpy as np\n",
    "import jupyter_rfb\n",
    "\n",
    "w = jupyter_rfb.RemoteFrameBuffer()\n",
    "w"
   ]
  },
  {
   "cell_type": "code",
   "execution_count": null,
   "id": "5192779f",
   "metadata": {},
   "outputs": [],
   "source": [
    "a = np.zeros((100, 100, 3), np.uint8)\n",
    "a[20:-20,20:-20,1] = 255\n",
    "w.send_frame(a)"
   ]
  }
 ],
 "metadata": {
  "kernelspec": {
   "display_name": "Python 3",
   "language": "python",
   "name": "python3"
  },
  "language_info": {
   "codemirror_mode": {
    "name": "ipython",
    "version": 3
   },
   "file_extension": ".py",
   "mimetype": "text/x-python",
   "name": "python",
   "nbconvert_exporter": "python",
   "pygments_lexer": "ipython3",
   "version": "3.9.1"
  }
 },
 "nbformat": 4,
 "nbformat_minor": 5
}
