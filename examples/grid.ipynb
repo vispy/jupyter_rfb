{
 "cells": [
  {
   "cell_type": "markdown",
   "id": "4b310a3a",
   "metadata": {},
   "source": [
    "# Grid Example\n",
    "\n",
    "Show a grid, to check that it's aligned correctly in terms of physical pixels. One can see how during the resizing, when the data has not updated to the new size, the Moiré effect temporarily occurs. "
   ]
  },
  {
   "cell_type": "code",
   "execution_count": 1,
   "id": "d5327490",
   "metadata": {},
   "outputs": [
    {
     "data": {
      "application/vnd.jupyter.widget-view+json": {
       "model_id": "0f32c2c9f5cc4ae182c9319c50b44540",
       "version_major": 2,
       "version_minor": 0
      },
      "text/plain": [
       "RFBOutputContext()"
      ]
     },
     "metadata": {},
     "output_type": "display_data"
    },
    {
     "data": {
      "application/vnd.jupyter.widget-view+json": {
       "model_id": "da51a5e8e63f47c28f7c26c269e81136",
       "version_major": 2,
       "version_minor": 0
      },
      "text/html": [
       "<div class='snapshot-da51a5e8e63f47c28f7c26c269e81136' style='position:relative;'><img src='data:image/png;base64,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' style='width:500.0px;height:300.0px;' /><div style='position: absolute; top:0; left:0; padding:1px 3px; background: #777; color:#fff; font-size: 90%; font-family:sans-serif; '>snapshot</div></div>"
      ],
      "text/plain": [
       "Grid()"
      ]
     },
     "execution_count": 1,
     "metadata": {},
     "output_type": "execute_result"
    }
   ],
   "source": [
    "import numpy as np\n",
    "import jupyter_rfb\n",
    "\n",
    "\n",
    "class Grid(jupyter_rfb.RemoteFrameBuffer):\n",
    "    def handle_event(self, event):\n",
    "        if event[\"event_type\"] == \"resize\":\n",
    "            self._size = event\n",
    "            # self.print(event)  # uncomment to display the event\n",
    "\n",
    "    def get_frame(self):\n",
    "        w, h, r = self._size[\"width\"], self._size[\"height\"], self._size[\"pixel_ratio\"]\n",
    "        physical_size = int(h * r), int(w * r)\n",
    "        a = np.zeros((physical_size[0], physical_size[1], 3), np.uint8)\n",
    "        self.draw_grid(a)\n",
    "        return a\n",
    "\n",
    "    def draw_grid(self, a):\n",
    "        a[::2, : a.shape[1] // 2] = 255\n",
    "        a[: a.shape[0] // 2, ::2] = 255\n",
    "\n",
    "\n",
    "w = Grid()\n",
    "w"
   ]
  },
  {
   "cell_type": "code",
   "execution_count": 2,
   "id": "99036999",
   "metadata": {},
   "outputs": [
    {
     "data": {
      "application/vnd.jupyter.widget-view+json": {
       "model_id": "b28caefcd2224e4f94e3a78a961077cf",
       "version_major": 2,
       "version_minor": 0
      },
      "text/plain": [
       "RFBOutputContext()"
      ]
     },
     "metadata": {},
     "output_type": "display_data"
    },
    {
     "data": {
      "application/vnd.jupyter.widget-view+json": {
       "model_id": "867783e4be764337a24bdae7c9a9494e",
       "version_major": 2,
       "version_minor": 0
      },
      "text/html": [
       "<div class='snapshot-867783e4be764337a24bdae7c9a9494e' style='position:relative;'><img src='data:image/png;base64,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' style='width:500.0px;height:300.0px;' /><div style='position: absolute; top:0; left:0; padding:1px 3px; background: #777; color:#fff; font-size: 90%; font-family:sans-serif; '>snapshot</div></div>"
      ],
      "text/plain": [
       "Grid2()"
      ]
     },
     "execution_count": 2,
     "metadata": {},
     "output_type": "execute_result"
    }
   ],
   "source": [
    "class Grid2(Grid):\n",
    "    def draw_grid(self, a):\n",
    "        a[::4, : a.shape[1] // 2] = 255\n",
    "        a[1::4, : a.shape[1] // 2] = 255\n",
    "        a[: a.shape[0] // 2, ::4] = 255\n",
    "        a[: a.shape[0] // 2, 1::4] = 255\n",
    "\n",
    "\n",
    "w = Grid2()\n",
    "w"
   ]
  }
 ],
 "metadata": {
  "kernelspec": {
   "display_name": "Python 3 (ipykernel)",
   "language": "python",
   "name": "python3"
  },
  "language_info": {
   "codemirror_mode": {
    "name": "ipython",
    "version": 3
   },
   "file_extension": ".py",
   "mimetype": "text/x-python",
   "name": "python",
   "nbconvert_exporter": "python",
   "pygments_lexer": "ipython3",
   "version": "3.9.9"
  }
 },
 "nbformat": 4,
 "nbformat_minor": 5
}
