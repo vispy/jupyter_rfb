{
 "cells": [
  {
   "cell_type": "markdown",
   "id": "f3a10a5c",
   "metadata": {},
   "source": [
    "# Vispy example\n",
    "\n",
    "**Note that this example depends on the Vispy library, and that you need a bleeding edge version of Vispy to run this.**\n",
    "\n",
    "An example showing how jupyter_rfb is used in Vispy. Note that Vispy implements a subclass of `RemoteFrameBuffer` for this to work."
   ]
  },
  {
   "cell_type": "code",
   "execution_count": 1,
   "id": "be51c953",
   "metadata": {},
   "outputs": [
    {
     "data": {
      "application/vnd.jupyter.widget-view+json": {
       "model_id": "0522fb062b3544a8a782a9a7a0511ec8",
       "version_major": 2,
       "version_minor": 0
      },
      "text/plain": [
       "RFBOutputContext()"
      ]
     },
     "metadata": {},
     "output_type": "display_data"
    },
    {
     "data": {
      "application/vnd.jupyter.widget-view+json": {
       "model_id": "6b5c6862cae9421594551dd8ec206d86",
       "version_major": 2,
       "version_minor": 0
      },
      "text/html": [
       "<div class='snapshot-6b5c6862cae9421594551dd8ec206d86' style='position:relative;'><img src='data:image/png;base64,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' style='width:500.0px;height:400.0px;' /><div style='position: absolute; top:0; left:0; padding:1px 3px; background: #777; color:#fff; font-size: 90%; font-family:sans-serif; '>snapshot</div></div>"
      ],
      "text/plain": [
       "CanvasBackend(css_height='400px')"
      ]
     },
     "execution_count": 1,
     "metadata": {},
     "output_type": "execute_result"
    }
   ],
   "source": [
    "from vispy import scene\n",
    "from vispy.visuals.transforms import STTransform\n",
    "\n",
    "canvas = scene.SceneCanvas(\n",
    "    keys=\"interactive\", bgcolor=\"white\", size=(500, 400), show=True, resizable=True\n",
    ")\n",
    "\n",
    "view = canvas.central_widget.add_view()\n",
    "view.camera = \"arcball\"\n",
    "\n",
    "sphere1 = scene.visuals.Sphere(\n",
    "    radius=1, method=\"latitude\", parent=view.scene, edge_color=\"black\"\n",
    ")\n",
    "\n",
    "sphere2 = scene.visuals.Sphere(\n",
    "    radius=1, method=\"ico\", parent=view.scene, edge_color=\"black\"\n",
    ")\n",
    "\n",
    "sphere3 = scene.visuals.Sphere(\n",
    "    radius=1,\n",
    "    rows=10,\n",
    "    cols=10,\n",
    "    depth=10,\n",
    "    method=\"cube\",\n",
    "    parent=view.scene,\n",
    "    edge_color=\"black\",\n",
    ")\n",
    "\n",
    "sphere1.transform = STTransform(translate=[-2.5, 0, 0])\n",
    "sphere3.transform = STTransform(translate=[2.5, 0, 0])\n",
    "\n",
    "view.camera.set_range(x=[-3, 3])\n",
    "canvas"
   ]
  },
  {
   "cell_type": "code",
   "execution_count": null,
   "id": "8601aff2",
   "metadata": {},
   "outputs": [],
   "source": []
  }
 ],
 "metadata": {
  "kernelspec": {
   "display_name": "Python 3 (ipykernel)",
   "language": "python",
   "name": "python3"
  },
  "language_info": {
   "codemirror_mode": {
    "name": "ipython",
    "version": 3
   },
   "file_extension": ".py",
   "mimetype": "text/x-python",
   "name": "python",
   "nbconvert_exporter": "python",
   "pygments_lexer": "ipython3",
   "version": "3.9.9"
  }
 },
 "nbformat": 4,
 "nbformat_minor": 5
}
