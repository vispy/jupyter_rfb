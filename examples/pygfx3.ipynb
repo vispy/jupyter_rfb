{
 "cells": [
  {
   "cell_type": "markdown",
   "id": "3d571a3d",
   "metadata": {},
   "source": [
    "# PyGfx picking example\n",
    "\n",
    "**Note that this example depends on pygfx (`pip install -U pygfx`).**\n",
    "\n",
    "An example demonstrating pickable points."
   ]
  },
  {
   "cell_type": "code",
   "execution_count": 1,
   "id": "25eb8174",
   "metadata": {},
   "outputs": [
    {
     "data": {
      "application/vnd.jupyter.widget-view+json": {
       "model_id": "230eee3142eb4aaea283797ec340240f",
       "version_major": 2,
       "version_minor": 0
      },
      "text/plain": [
       "RFBOutputContext()"
      ]
     },
     "metadata": {},
     "output_type": "display_data"
    },
    {
     "data": {
      "application/vnd.jupyter.widget-view+json": {
       "model_id": "8297e2f5538643dc8082c5133392dabb",
       "version_major": 2,
       "version_minor": 0
      },
      "text/html": [
       "<div class='snapshot-8297e2f5538643dc8082c5133392dabb' style='position:relative;'><img src='data:image/png;base64,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' style='width:500.0px;height:300.0px;' /><div style='position: absolute; top:0; left:0; padding:1px 3px; background: #777; color:#fff; font-size: 90%; font-family:sans-serif; '>snapshot</div></div>"
      ],
      "text/plain": [
       "PickingWgpuCanvas()"
      ]
     },
     "execution_count": 1,
     "metadata": {},
     "output_type": "execute_result"
    }
   ],
   "source": [
    "import numpy as np\n",
    "import pygfx as gfx\n",
    "from wgpu.gui.jupyter import WgpuCanvas\n",
    "\n",
    "\n",
    "class PickingWgpuCanvas(WgpuCanvas):\n",
    "    def handle_event(self, event):\n",
    "        super().handle_event(event)\n",
    "        # Get a dict with info about the clicked location\n",
    "        if event[\"event_type\"] == \"pointer_down\":\n",
    "            xy = event[\"x\"], event[\"y\"]\n",
    "            info = renderer.get_pick_info(xy)\n",
    "            wobject = info[\"world_object\"]\n",
    "            # If a point was clicked ..\n",
    "            if wobject and \"vertex_index\" in info:\n",
    "                i = int(round(info[\"vertex_index\"]))\n",
    "                geometry.positions.data[i, 1] *= -1\n",
    "                geometry.positions.update_range(i)\n",
    "                canvas.request_draw()\n",
    "\n",
    "\n",
    "canvas = PickingWgpuCanvas()\n",
    "renderer = gfx.renderers.WgpuRenderer(canvas)\n",
    "scene = gfx.Scene()\n",
    "\n",
    "xx = np.linspace(-50, 50, 10)\n",
    "yy = np.random.uniform(20, 50, 10)\n",
    "geometry = gfx.Geometry(positions=[(x, y, 0) for x, y in zip(xx, yy)])\n",
    "if True:  # Set to False to try this for a line\n",
    "    ob = gfx.Points(geometry, gfx.PointsMaterial(color=(0, 1, 1, 1), size=16))\n",
    "else:\n",
    "    ob = gfx.Line(geometry, gfx.LineMaterial(color=(0, 1, 1, 1), thickness=10))\n",
    "scene.add(ob)\n",
    "\n",
    "camera = gfx.OrthographicCamera(120, 120)\n",
    "\n",
    "canvas.request_draw(lambda: renderer.render(scene, camera))\n",
    "canvas"
   ]
  },
  {
   "cell_type": "code",
   "execution_count": null,
   "id": "21419674",
   "metadata": {},
   "outputs": [],
   "source": []
  }
 ],
 "metadata": {
  "kernelspec": {
   "display_name": "Python 3 (ipykernel)",
   "language": "python",
   "name": "python3"
  },
  "language_info": {
   "codemirror_mode": {
    "name": "ipython",
    "version": 3
   },
   "file_extension": ".py",
   "mimetype": "text/x-python",
   "name": "python",
   "nbconvert_exporter": "python",
   "pygments_lexer": "ipython3",
   "version": "3.9.9"
  }
 },
 "nbformat": 4,
 "nbformat_minor": 5
}
