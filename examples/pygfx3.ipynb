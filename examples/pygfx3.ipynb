{
 "cells": [
  {
   "cell_type": "markdown",
   "id": "3d571a3d",
   "metadata": {},
   "source": [
    "# PyGfx picking example\n",
    "\n",
    "**Note that this example depends on pygfx (`pip install -U pygfx`).**\n",
    "\n",
    "An example demonstrating pickable points."
   ]
  },
  {
   "cell_type": "code",
   "execution_count": 1,
   "id": "25eb8174",
   "metadata": {},
   "outputs": [
    {
     "data": {
      "application/vnd.jupyter.widget-view+json": {
       "model_id": "0992347cf07c4281aa39b206e71a2462",
       "version_major": 2,
       "version_minor": 0
      },
      "text/plain": [
       "RFBOutputContext()"
      ]
     },
     "metadata": {},
     "output_type": "display_data"
    },
    {
     "name": "stderr",
     "output_type": "stream",
     "text": [
      "Forcing backend: Vulkan (4)\n"
     ]
    },
    {
     "data": {
      "text/html": [
       "<div class='initial-snapshot-b88c810ec0964def88ee6a9612ba9bb4' style='position:relative;'><img src='data:image/png;base64,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' style='width:500.0px;height:300.0px;' /><div style='position: absolute; top:0; left:0; padding:1px 3px; background: #777; color:#fff; font-size: 90%; font-family:sans-serif; '>initial snapshot</div></div>"
      ],
      "text/plain": [
       "<jupyter_rfb._utils.Snapshot object>"
      ]
     },
     "metadata": {},
     "output_type": "display_data"
    },
    {
     "data": {
      "application/vnd.jupyter.widget-view+json": {
       "model_id": "b88c810ec0964def88ee6a9612ba9bb4",
       "version_major": 2,
       "version_minor": 0
      },
      "text/plain": [
       "PickingWgpuCanvas()"
      ]
     },
     "execution_count": 1,
     "metadata": {},
     "output_type": "execute_result"
    }
   ],
   "source": [
    "import numpy as np\n",
    "import pygfx as gfx\n",
    "from wgpu.gui.jupyter import WgpuCanvas\n",
    "\n",
    "class PickingWgpuCanvas(WgpuCanvas):\n",
    "    def handle_event(self, event):\n",
    "        super().handle_event(event)\n",
    "        # Get a dict with info about the clicked location\n",
    "        if event[\"event_type\"] == \"pointer_down\":\n",
    "            xy = event[\"x\"], event[\"y\"]\n",
    "            info = renderer.get_pick_info(xy)\n",
    "            wobject = info[\"world_object\"]\n",
    "            # If a point was clicked ..\n",
    "            if wobject and \"vertex_index\" in info:\n",
    "                i = int(round(info[\"vertex_index\"]))\n",
    "                geometry.positions.data[i, 1] *= -1\n",
    "                geometry.positions.update_range(i)\n",
    "                canvas.request_draw()\n",
    "\n",
    "canvas = PickingWgpuCanvas()\n",
    "renderer = gfx.renderers.WgpuRenderer(canvas)\n",
    "scene = gfx.Scene()\n",
    "\n",
    "xx = np.linspace(-50, 50, 10)\n",
    "yy = np.random.uniform(20, 50, 10)\n",
    "geometry = gfx.Geometry(positions=[(x, y, 0) for x, y in zip(xx, yy)])\n",
    "if True:  # Set to False to try this for a line\n",
    "    ob = gfx.Points(geometry, gfx.PointsMaterial(color=(0, 1, 1, 1), size=16))\n",
    "else:\n",
    "    ob = gfx.Line(geometry, gfx.LineMaterial(color=(0, 1, 1, 1), thickness=10))\n",
    "scene.add(ob)\n",
    "\n",
    "camera = gfx.OrthographicCamera(120, 120)\n",
    "\n",
    "canvas.request_draw(lambda: renderer.render(scene, camera))\n",
    "canvas"
   ]
  },
  {
   "cell_type": "code",
   "execution_count": null,
   "id": "21419674",
   "metadata": {},
   "outputs": [],
   "source": []
  }
 ],
 "metadata": {
  "kernelspec": {
   "display_name": "Python 3",
   "language": "python",
   "name": "python3"
  },
  "language_info": {
   "codemirror_mode": {
    "name": "ipython",
    "version": 3
   },
   "file_extension": ".py",
   "mimetype": "text/x-python",
   "name": "python",
   "nbconvert_exporter": "python",
   "pygments_lexer": "ipython3",
   "version": "3.9.1"
  }
 },
 "nbformat": 4,
 "nbformat_minor": 5
}
