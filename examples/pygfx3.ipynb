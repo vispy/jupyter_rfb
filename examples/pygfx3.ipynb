{
 "cells": [
  {
   "cell_type": "markdown",
   "id": "3d571a3d",
   "metadata": {},
   "source": [
    "# PyGfx picking example\n",
    "\n",
    "**Note that this example depends on pygfx (`pip install -U pygfx`).**\n",
    "\n",
    "An example demonstrating pickable points."
   ]
  },
  {
   "cell_type": "code",
   "execution_count": 1,
   "id": "25eb8174",
   "metadata": {},
   "outputs": [
    {
     "data": {
      "application/vnd.jupyter.widget-view+json": {
       "model_id": "7b2eb14604574d7192af0858f39a947e",
       "version_major": 2,
       "version_minor": 0
      },
      "text/plain": [
       "RFBOutputContext()"
      ]
     },
     "metadata": {},
     "output_type": "display_data"
    },
    {
     "data": {
      "text/html": [
       "<div class='initial-snapshot-8c5bde9a5fb94374adc494ac0ce6536c' style='position:relative;'><img src='data:image/png;base64,iVBORw0KGgoAAAANSUhEUgAAAfQAAAEsCAYAAAA1u0HIAAAM8klEQVR42u3dS2xc5RUH8EsaR4VdBVRAisQriMeOBMGKtltEuw0iWZUg0S0PiSKyDhGLboB9W6okSlYQJaKFolZiT4KTbhInZNfEREVqHPKwU//vcGPHMfHcmbFnPvv3k64yjG11xh3f8z3OOV9VAQAAAAAAAAAAAAAAAAAAAAAAAAAAAAAAAAAAAAAAAAAAAAAAAMCIuO22qrrrrnXVY4+NVY8/vuH69fDD66v164f96gCAJW3YUFVbt95bffzxa9WJE4eqkyc/vX4dOfKXavfuX1VPPfXTat26Yb/SwcjgBQBWlUceGasD9unTX1RXr16qrl27dsM1MzNTXbx4vjp2bF+1Y8cDxc7W87qz2vDss3dUb7/9VLVt28bqiSc21KsSAjwARbv77nXV3r0vV1NTZ2cD9/RNwfzGwH61OnXq8zqolzRTz2vN6kIGLVltOHPmn7Pv91w1OXm8OnnycHXw4JvVzp1bZgc2hY5UAFjbMivdvv0X1blz47cM5AuD+vj4vjpAliCz8gxA8pqzypDVhoXvaXr6SnXhwtnqwIHfV48+OjbslwwA7WSp+ZNPXlt0mf1W18WLk/WMtoRl6q1b76lOnfqsHogs/b7O10HdTB2AomQv+ZtvvmgVzDsz2svVwYNv1AOCUfbzn2fA8nqrAUuW4nfv/mWxeQIArDGZXb/zzubZWem3rQP6tWszdSZ8yttG2Usv3VedO/d1q/eWJfnjxw9UmzeXsaUAwBqXgJ4ksStXpnoI6NfqcrbUqI+qzLDff/+Fnt5fBjkZ7JSwpTBMC/sWpIJgbLTHeACrT38z9NEP6A89tL7OaF8qc3+xK4OADHYE9MWlaiArGDt3Pl1XCJw4cbiamPi0Onr0o+qDD16otm27r66eAGCF9LqHniCZYJmgOaoy2Migo5fBioD+426sGpis8ymyBdN8LvK7yzZHSiFVDACskN6z3L+tA94oJ46ZoQ9eJ5g/WJ0+/fmSv9emYkBQB1gBq7kO3R764LUpAWx+j5mpW34HWAFNp7hu9tJL6xTXe5b7flnuC/RSApgrg8X8/wDACsiy6J49L9fBr3PDnlkQ5KbrJdTMzEvq5d4ZrOyovv/+v63q0N99Vx36Qr0Mjprti6yUyH4HWCEJftu3b6xPW0t/8/Q5T3BL3/OST1vbsuX22YHInq5mlsvRKS6/r6a0q9Syrmw97Nr1XHX58oUeEihn6s9P3jtAV3LTmX/RmwSfnECWk8hyIlky4Us+Dz0BNXu/hw//obpw4T83ZGU3TXIS7LM0PMjM7AyQUr6VgVBT2jVX1rWxXsIu5XO62nsWACMgN+tNm8bqG2RmELnp5MrjPJevlTajHCWlBJxu5IjY9J9Py9r5573ncTL9szoxqOStDAoyOMgg4cqVC/XhL81stVPWNV7vR7/44r1FDJT6DegldBUEhqgpoTly5M/V5OS/6xtnbjid60L9XL6W7ynhpsnyW9jZLFceD/I89ATzLNtn+f5WQW56+tIPCYYPjvygs2lCNDU12TqYl9L3HxiSBOhXXkk97D9uWUKTZK58T75XUGe5zVUMnO8q2OXzeezYviIy6pM/kez/tnX9qZ4o5WQ+YIVlNpNM604wX/rm0gT1EmZClKtT07+xVU1/k4g36k16Iq8v2f9TU2eH0rMg//vJ5XjyyQ11xn2uPC45vwPWvOyFfvXVn7pubtHcWLL8nj31QZKARyNLyqkQaFunnX31JMsN+rO5HPIaDx9+q6u99M5AejBbCqk6yGAi2fITE3+rJieP1Vce57l8zRn2UKAku6Wkqu1eXvbU87P9amYKyf7OvmKuPB7kPizlyV58kr8W1vCv5GdzJTz//M+qQ4feqmfqP7ZClkFNOsoNIn+lyUlICWUGP4sNiPI1bWahMP3UwyZRLj/ba9DNLCNLh1kezazgzJl/1fuDuXLASbKW00ZVm8u1qb/DYPr7bK60rJJlVpw99STKNcmo+btM85lBZfB3m2A4v4eAoA6F6Kd8pp8DN248Yer8ojOFZC13apl3uKmsQWspoEf+JjLAzQrV/HLR7G0Posa+6fLXbYJhE9TzMwbVUIBhBfQ2h1IsR7cxRl8/p7sNcsk9n+8E2/vv/0n973IPEparoVOn1Wy7BMNcesdDIYYR0LO8mC5jbZKd9ANfe3o93a2TFPfXvpPiMitNIMss+cMPf1t9+eUfZ//9TT2DfuaZO6o77yxn1tpsrWXlYi2sdsCa1E+Di4sXJ1sfiZnvTQ1tWoYO4yZNWXo5wKTfwV9yO9KvPkvNTWe6q1cv1qtJ+Tc5HqdPf1EfvlPKVtCwVuKAFZZ9u/Hxva3L1nqph03merpcdfp/r97MZQYjs+QEzm6Oom2ywbP60+vAL0Er20H5e7h06btVkzQmoMMaMddY5vOugnq+p1MP2/4M735KkSz9rU0JmPv3v3rLsq58nhKAE4gTkHv9jHTqwrvfDiolaUxAhzVkpVq/9pe57MayVjWNUFLWla2euTMGpq6XOSawPv307T03Xemlc1uTNJaOdqOs2VrrdqXjxkHLt6231oAhmysl23u9FjZL47nyOM9lmT3f0+v+pBk6vVqsrCvXoJLU0tyol6z6lFemTnzUD0vJ7yh7/+3+9mbqn8nPAoVpmr3kJvnee7+uj8HMlcd5Ll/rp+1kr+087aHTWFjWNagBXroTprlRL6tHOZt91I8zzYCnTT5CMzvPz5SU0Q8skJtkAnf+kHPl8aBunJ0DN9plLi9X73iIuSXp9tUeuSYmPq23k0bdXKe4pYN6SUl/wJCk61WWKNvM0s+dO1a9+uojTndjWayVgB5NkmFKRzvVJvOX4Gfq5/I1wRxYUm6e6Us9MfH3roJ6KZnElG21L7nPlyTD9IM4ePDN+rVnQJIrj/NcvpYGUABLSoJTyotSIrR4OdJMHew7vdzLaeBBuXptNZvPafJMRj0pbqEMrPOaMxDJ6kKuPHbKIdCT5pSp3EhTztZcyYTPTTL77WbmrITVXLYGsCJyI83sqJklmCn0Z2ysU4Lld9lelqKzv9xtJnhnO+hlg06AYVmu0qdhag4TyYEm81c8stqRUkGrHd3p5szwnC2QnvESxwCGJKsBmzcv3pwkz5d6mluCytxhIlM3nS8vH6Gd/I727Pld3RXx5s50k3XHuizPO9IXYAhy8929O+1DDyzaPjTPd27SZQW8vN6lZpRqi9tL/4V0SFts8JcGS6UO/gCK1iyjZpl04ey15GXUBJUMUvK6u+/+pQywjdW4PQNQpASuLDV3M4OdP4stYaaebYKsLPzYIOVWmdnZbweAYvTSajadstJcY5RnY/10N8tBN1k+1nkPgCKkXCv17G0Pg5mevlJ3zBrlZiH9nHHdeX9vjPT7A4Dr+jmuNWdspx3oqOonoHfalR4qql0pAGtYGqukFruXgJfM9yxpj+qyez8BPXvuqVVPQx8AGHmrPaD3voc+VTegUXoFQBH6WXLPyVujvOQenSz3/bLcAVjdkvSV5K/Ouc/tl6TTE32UzR0o0n0deud0sNfrc+kBoAhZlk75WcrQ2i23n6/3p0tYkk4HvG47xc3MXK1OnfqsPo8eAIqSBjE5d73b0rUEvfHxfXV7z1LMdcI7u+h53nkuOQHj43urHTseKGKgAgA32br1ntlgtqe6dOm7JZejM4NN0Cut6Upm6ll+P3r0o2py8nh1+fKF2et/9eM8lxWHDFJKe18AcF2C2JYtt/9wItnXP5xINn199pr/zvPZW85ydKkz2LzuTZvGqm3bNla7dj1XX3mc50p9TwBwk8XODM+/+e88n0SxUS1Ta8tBIgCsepmtpqlK6tTzr9krAAAAAAAAAAAAAAAAAAAAAAAAAAAAAAAAAAAAAAAAAAAAAAAAAAAAAAAAAAAAAAAAAAAAAAAAAAAAAAAAAAAAAAAAAAAAAAAAAAAAAAAAAAAAAAAAAAAAAAAAAAAAAAAAAAAAAAAAAAAAAAAAAAAAAAAAAAAAAAAAAAAAAAAAAAAAAAAAAAAAAAAAAAAAAAAAAAAAAAAAAAAAAAAAAAAAAAAAAAAAAAAAAAAAAAAAAAAAAAAAAAAAAAAAAAAAAAAAAAAAAAAAAAAAAAAAAAAAAAAAAAAAAAAAAAAAAAAAAAAAAAAAAAAAAAAAAAAAAAAAAAAAAAAAAAAAAAAAAAAAAAAAAAAAAAAAAAAAAAAAAAAAAAAAAAAAAAAAAAAAAAAAAAAAAAAAAAAAAAAAAAAAAAAAAAAAAAAAAAAAAAAAAAAAAAAAAAAAAAAAAAAAAAAAAAAAAAAAAAAAAAAAAAAAAAAAAAAAAAAAAAAAAAAAAAAAAAAAAAAAAAAAAAAAAAAAAAAAAAAAAAAAAAAAAAAAAAAAAAAAAAAAAAAAAAAAAAAAAAAAAAAAAAAAAAAAAAAAAAAAffg/sEiLeERCfUoAAAAASUVORK5CYII=' style='width:500.0px;height:300.0px;' /><div style='position: absolute; top:0; left:0; padding:1px 3px; background: #777; color:#fff; font-size: 90%; font-family:sans-serif; '>initial snapshot</div></div>"
      ],
      "text/plain": [
       "<jupyter_rfb._utils.Snapshot object>"
      ]
     },
     "metadata": {},
     "output_type": "display_data"
    },
    {
     "data": {
      "application/vnd.jupyter.widget-view+json": {
       "model_id": "8c5bde9a5fb94374adc494ac0ce6536c",
       "version_major": 2,
       "version_minor": 0
      },
      "text/plain": [
       "PickingWgpuCanvas()"
      ]
     },
     "execution_count": 1,
     "metadata": {},
     "output_type": "execute_result"
    }
   ],
   "source": [
    "import numpy as np\n",
    "import pygfx as gfx\n",
    "from wgpu.gui.jupyter import WgpuCanvas\n",
    "\n",
    "class PickingWgpuCanvas(WgpuCanvas):\n",
    "    def handle_event(self, event):\n",
    "        super().handle_event(event)\n",
    "        # Get a dict with info about the clicked location\n",
    "        if event[\"event_type\"] == \"pointer_down\":\n",
    "            xy = event[\"x\"], event[\"y\"]\n",
    "            info = renderer.get_pick_info(xy)\n",
    "            wobject = info[\"world_object\"]\n",
    "            # If a point was clicked ..\n",
    "            if wobject and \"vertex_index\" in info:\n",
    "                i = int(round(info[\"vertex_index\"]))\n",
    "                geometry.positions.data[i, 1] *= -1\n",
    "                geometry.positions.update_range(i)\n",
    "                canvas.request_draw()\n",
    "\n",
    "canvas = PickingWgpuCanvas()\n",
    "renderer = gfx.renderers.WgpuRenderer(canvas)\n",
    "scene = gfx.Scene()\n",
    "\n",
    "xx = np.linspace(-50, 50, 10)\n",
    "yy = np.random.uniform(20, 50, 10)\n",
    "geometry = gfx.Geometry(positions=[(x, y, 0) for x, y in zip(xx, yy)])\n",
    "if True:  # Set to False to try this for a line\n",
    "    ob = gfx.Points(geometry, gfx.PointsMaterial(color=(0, 1, 1, 1), size=16))\n",
    "else:\n",
    "    ob = gfx.Line(geometry, gfx.LineMaterial(color=(0, 1, 1, 1), thickness=10))\n",
    "scene.add(ob)\n",
    "\n",
    "camera = gfx.OrthographicCamera(120, 120)\n",
    "\n",
    "canvas.request_draw(lambda: renderer.render(scene, camera))\n",
    "canvas"
   ]
  },
  {
   "cell_type": "code",
   "execution_count": null,
   "id": "21419674",
   "metadata": {},
   "outputs": [],
   "source": []
  }
 ],
 "metadata": {
  "kernelspec": {
   "display_name": "Python 3 (ipykernel)",
   "language": "python",
   "name": "python3"
  },
  "language_info": {
   "codemirror_mode": {
    "name": "ipython",
    "version": 3
   },
   "file_extension": ".py",
   "mimetype": "text/x-python",
   "name": "python",
   "nbconvert_exporter": "python",
   "pygments_lexer": "ipython3",
   "version": "3.9.9"
  }
 },
 "nbformat": 4,
 "nbformat_minor": 5
}
