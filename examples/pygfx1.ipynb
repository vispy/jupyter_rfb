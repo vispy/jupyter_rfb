{
 "cells": [
  {
   "cell_type": "markdown",
   "id": "f4ce92ce",
   "metadata": {},
   "source": [
    "# PyGfx cube example\n",
    "\n",
    "**Note that this example depends on pygfx (`pip install -U pygfx`).**\n",
    "\n",
    "An example showing a lit, textured, rotating cube."
   ]
  },
  {
   "cell_type": "code",
   "execution_count": 1,
   "id": "f00886ec",
   "metadata": {},
   "outputs": [
    {
     "data": {
      "application/vnd.jupyter.widget-view+json": {
       "model_id": "",
       "version_major": 2,
       "version_minor": 0
      },
      "text/plain": [
       "RFBOutputContext()"
      ]
     },
     "metadata": {},
     "output_type": "display_data"
    },
    {
     "data": {
      "application/vnd.jupyter.widget-view+json": {
       "model_id": "0323a1d4b75d4d318b526f51c00e8cb4",
       "version_major": 2,
       "version_minor": 0
      },
      "text/html": [
       "<div class='snapshot-0323a1d4b75d4d318b526f51c00e8cb4' style='position:relative;'><img src='data:image/png;base64,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' style='width:500.0px;height:300.0px;' /><div style='position: absolute; top:0; left:0; padding:1px 3px; background: #777; color:#fff; font-size: 90%; font-family:sans-serif; '>snapshot</div></div>"
      ],
      "text/plain": [
       "JupyterWgpuCanvas()"
      ]
     },
     "metadata": {},
     "output_type": "display_data"
    }
   ],
   "source": [
    "import pygfx as gfx\n",
    "\n",
    "cube = gfx.Mesh(\n",
    "    gfx.box_geometry(200, 200, 200),\n",
    "    gfx.MeshPhongMaterial(color=\"#336699\"),\n",
    ")\n",
    "\n",
    "\n",
    "def animate():\n",
    "    rot = gfx.linalg.Quaternion().set_from_euler(gfx.linalg.Euler(0.005, 0.01))\n",
    "    cube.rotation.multiply(rot)\n",
    "\n",
    "disp = gfx.Display()\n",
    "disp.before_render = animate\n",
    "disp.show(cube)"
   ]
  },
  {
   "cell_type": "code",
   "execution_count": null,
   "id": "f77ecf42",
   "metadata": {},
   "outputs": [],
   "source": []
  }
 ],
 "metadata": {
  "kernelspec": {
   "display_name": "Python 3 (ipykernel)",
   "language": "python",
   "name": "python3"
  },
  "language_info": {
   "codemirror_mode": {
    "name": "ipython",
    "version": 3
   },
   "file_extension": ".py",
   "mimetype": "text/x-python",
   "name": "python",
   "nbconvert_exporter": "python",
   "pygments_lexer": "ipython3",
   "version": "3.9.9"
  }
 },
 "nbformat": 4,
 "nbformat_minor": 5
}
