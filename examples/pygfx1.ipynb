{
 "cells": [
  {
   "cell_type": "markdown",
   "id": "f4ce92ce",
   "metadata": {},
   "source": [
    "# PyGfx cube example\n",
    "\n",
    "**Note that this example depends on pygfx (`pip install -U pygfx`).**\n",
    "\n",
    "An example showing a lit, textured, rotating cube."
   ]
  },
  {
   "cell_type": "code",
   "execution_count": null,
   "id": "f00886ec",
   "metadata": {},
   "outputs": [],
   "source": [
    "import numpy as np\n",
    "import imageio\n",
    "import pygfx as gfx\n",
    "\n",
    "from wgpu.gui.jupyter import WgpuCanvas\n",
    "\n",
    "canvas = WgpuCanvas()\n",
    "renderer = gfx.renderers.WgpuRenderer(canvas)\n",
    "scene = gfx.Scene()\n",
    "\n",
    "im = imageio.imread(\"imageio:bricks.jpg\").astype(np.float32) / 255\n",
    "tex = gfx.Texture(im, dim=2).get_view(filter=\"linear\", address_mode=\"repeat\")\n",
    "\n",
    "geometry = gfx.BoxGeometry(200, 200, 200)\n",
    "geometry.texcoords.data[:] *= 2  # smaller bricks\n",
    "material = gfx.MeshPhongMaterial(map=tex, color=(1, 0, 0, 0.2), clim=(0.2, 0.8))\n",
    "cube = gfx.Mesh(geometry, material)\n",
    "scene.add(cube)\n",
    "\n",
    "camera = gfx.PerspectiveCamera(70, 16 / 9)\n",
    "camera.position.z = 400\n",
    "\n",
    "\n",
    "def animate():\n",
    "    rot = gfx.linalg.Quaternion().set_from_euler(gfx.linalg.Euler(0.005, 0.01))\n",
    "    cube.rotation.multiply(rot)\n",
    "\n",
    "    renderer.render(scene, camera)\n",
    "    canvas.request_draw()\n",
    "\n",
    "    \n",
    "canvas.request_draw(animate)\n",
    "canvas"
   ]
  },
  {
   "cell_type": "code",
   "execution_count": null,
   "id": "f77ecf42",
   "metadata": {},
   "outputs": [],
   "source": []
  }
 ],
 "metadata": {
  "kernelspec": {
   "display_name": "Python 3",
   "language": "python",
   "name": "python3"
  },
  "language_info": {
   "codemirror_mode": {
    "name": "ipython",
    "version": 3
   },
   "file_extension": ".py",
   "mimetype": "text/x-python",
   "name": "python",
   "nbconvert_exporter": "python",
   "pygments_lexer": "ipython3",
   "version": "3.9.1"
  }
 },
 "nbformat": 4,
 "nbformat_minor": 5
}
