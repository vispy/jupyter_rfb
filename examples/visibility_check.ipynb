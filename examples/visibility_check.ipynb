{
 "cells": [
  {
   "cell_type": "markdown",
   "id": "3a254e70",
   "metadata": {},
   "source": [
    "# Visibility check\n",
    "\n",
    "This notebook is to verify that widgets that are not visible do not perform any draws.\n"
   ]
  },
  {
   "cell_type": "code",
   "execution_count": 1,
   "id": "367f4c89",
   "metadata": {},
   "outputs": [],
   "source": [
    "import asyncio\n",
    "import numpy as np\n",
    "from jupyter_rfb import RemoteFrameBuffer"
   ]
  },
  {
   "cell_type": "code",
   "execution_count": 2,
   "id": "df8d3680",
   "metadata": {},
   "outputs": [
    {
     "data": {
      "application/vnd.jupyter.widget-view+json": {
       "model_id": "3f8a21b821ca4fd5a624602e6e76feea",
       "version_major": 2,
       "version_minor": 0
      },
      "text/plain": [
       "RFBOutputContext()"
      ]
     },
     "metadata": {},
     "output_type": "display_data"
    },
    {
     "data": {
      "application/vnd.jupyter.widget-view+json": {
       "model_id": "54779414de044966a1a688e821f99917",
       "version_major": 2,
       "version_minor": 0
      },
      "text/plain": [
       "RFBOutputContext()"
      ]
     },
     "metadata": {},
     "output_type": "display_data"
    }
   ],
   "source": [
    "class ProgressBar(RemoteFrameBuffer):\n",
    "    \n",
    "    i = 0\n",
    "    n = 32\n",
    "    channel = 0\n",
    "    callback = lambda *args: None\n",
    "    \n",
    "    def get_frame(self):\n",
    "        self.callback()\n",
    "        self.i += 1\n",
    "        if self.i >= self.n:\n",
    "            self.i = 0\n",
    "        array = np.zeros((100, 600, 3), np.uint8)\n",
    "        array[:,: int(array.shape[1] * (self.i + 1) / self.n), self.channel] = 255\n",
    "        return array\n",
    "\n",
    "class AutoDrawWidget(ProgressBar):\n",
    "    \n",
    "    channel = 2  # blue\n",
    "    \n",
    "    def __init__(self, **kwargs):\n",
    "        super().__init__(**kwargs)\n",
    "        loop = asyncio.get_event_loop()\n",
    "        loop.create_task(self._keep_at_it())\n",
    "    \n",
    "    async def _keep_at_it(self):\n",
    "        while True:\n",
    "            await asyncio.sleep(0.5)\n",
    "            self.request_draw()\n",
    "        \n",
    "\n",
    "class IndicatorWidget(ProgressBar):\n",
    "    channel = 1  # green\n",
    "\n",
    "indicator = IndicatorWidget(css_width=\"600px\", css_height=\"100px\")\n",
    "autodraw = AutoDrawWidget(css_width=\"600px\", css_height=\"100px\")\n",
    "autodraw.callback = lambda *args: indicator.request_draw()"
   ]
  },
  {
   "cell_type": "markdown",
   "id": "9bc5e9ba",
   "metadata": {},
   "source": [
    "We display a widget that automatically keeps progressing. Actually, we create two views of that widgets to make sure that this works for multiple views."
   ]
  },
  {
   "cell_type": "code",
   "execution_count": 3,
   "id": "47cc2c4d",
   "metadata": {},
   "outputs": [
    {
     "data": {
      "text/html": [
       "<div class='initial-snapshot-c8d305c827d949a1ba721dbb1b304af2' style='position:relative;'><img src='data:image/png;base64,iVBORw0KGgoAAAANSUhEUgAAAlgAAABkCAIAAADVI9l0AAABkklEQVR42u3VAQkAIADEwO9fWluIsDvWYdvO2wDgL0YIQJoRApBmhACkGSEAaUYIQJoRApBmhACkGSEAaUYIQJoRApBmhACkGSEAaUYIQJoRApBmhACkGSEAaUYIQJoRApBmhACkGSEAaUYIQJoRApBmhACkGSEAaUYIQJoRApBmhACkGSEAaUYIQJoRApBmhACkGSEAaUYIQJoRApBmhACkGSEAaUYIQJoRApBmhACkGSEAaUYIQJoRApBmhACkGSEAaUYIQJoRApBmhACkGSEAaUYIQJoRApBmhACkGSEAaUYIQJoRApBmhACkGSEAaUYIQJoRApBmhACkGSEAaUYIQJoRApBmhACkGSEAaUYIQJoRApBmhACkGSEAaUYIQJoRApBmhACkGSEAaUYIQJoRApBmhACkGSEAaUYIQJoRApBmhACkGSEAaUYIQJoRApBmhACkGSEAaUYIQJoRApBmhACkGSEAaUYIQJoRApBmhACkGSEAaUYIQJoRApBmhACkGSEAaUYIQJoRApBmhAB0XdG1Zl+QPtaxAAAAAElFTkSuQmCC' style='width:600.0px;height:100.0px;' /><div style='position: absolute; top:0; left:0; padding:1px 3px; background: #777; color:#fff; font-size: 90%; font-family:sans-serif; '>initial snapshot</div></div>"
      ],
      "text/plain": [
       "<jupyter_rfb._utils.Snapshot object>"
      ]
     },
     "metadata": {},
     "output_type": "display_data"
    },
    {
     "data": {
      "application/vnd.jupyter.widget-view+json": {
       "model_id": "c8d305c827d949a1ba721dbb1b304af2",
       "version_major": 2,
       "version_minor": 0
      },
      "text/plain": [
       "AutoDrawWidget(css_height='100px', css_width='600px')"
      ]
     },
     "execution_count": 3,
     "metadata": {},
     "output_type": "execute_result"
    }
   ],
   "source": [
    "autodraw"
   ]
  },
  {
   "cell_type": "code",
   "execution_count": 4,
   "id": "b6e695ef",
   "metadata": {},
   "outputs": [
    {
     "data": {
      "text/html": [
       "<div class='initial-snapshot-c8d305c827d949a1ba721dbb1b304af2' style='position:relative;'><img src='data:image/png;base64,iVBORw0KGgoAAAANSUhEUgAAAlgAAABkCAIAAADVI9l0AAACWUlEQVR42u3VAQkAIADEwO9fWlPIEO5Yh207nwQAT+SHM0IASvnhjBCAUn44IwSglB/OCAEo5YczQgBK+eGMEIBSfjgjBKCUH84IASjlhzNCAEr54YwQgFJ+OCMEoJQfzggBKOWHM0IASvnhjBCAUn44IwSglB/OCAEo5YczQgBK+eGMEIBSfjgjBKCUH84IASjlhzNCAEr54YwQgFJ+OCMEoJQfzggBKOWHM0IASvnhjBCAUn44IwSglB/OCAEo5YczQgBK+eGMEIBSfjgjBKCUH84IASjlhzNCAEr54YwQgFJ+OCMEoJQfzggBKOWHM0IASvnhjBCAUn44IwSglB/OCAEo5YczQgBK+eGMEIBSfjgjBKCUH84IASjlhzNCAEr54YwQgFJ+OCMEoJQfzggBKOWHM0IASvnhjBCAUn44IwSglB/OCAEo5YczQgBK+eGMEIBSfjgjBKCUH84IASjlhzNCAEr54YwQgFJ+OCMEoJQfzggBKOWHM0IASvnhjBCAUn44IwSglB/OCAEo5YczQgBK+eGMEIBSfjgjBKCUH84IASjlhzNCAEr54YwQgFJ+OCMEoJQfzggBKOWHM0IASvnhjBCAUn44IwSglB/OCAEo5YczQgBK+eGMEIBSfjgjBKCUH84IASjlhzNCAEr54YwQgFJ+OCMEoJQfzggBKOWHM0IASvnhjBCAUn44IwSglB/OCAEo5YczQgBK+eGMEIBSfjgjBKCUH84IASjlhzNCAEr54YwQgFJ+OCMEoJQfzggBKOWHM0IASvnhjBCAUn44IwQgcwGMictcaAU5qwAAAABJRU5ErkJggg==' style='width:600.0px;height:100.0px;' /><div style='position: absolute; top:0; left:0; padding:1px 3px; background: #777; color:#fff; font-size: 90%; font-family:sans-serif; '>initial snapshot</div></div>"
      ],
      "text/plain": [
       "<jupyter_rfb._utils.Snapshot object>"
      ]
     },
     "metadata": {},
     "output_type": "display_data"
    },
    {
     "data": {
      "application/vnd.jupyter.widget-view+json": {
       "model_id": "c8d305c827d949a1ba721dbb1b304af2",
       "version_major": 2,
       "version_minor": 0
      },
      "text/plain": [
       "AutoDrawWidget(css_height='100px', css_width='600px')"
      ]
     },
     "execution_count": 4,
     "metadata": {},
     "output_type": "execute_result"
    }
   ],
   "source": [
    "autodraw"
   ]
  },
  {
   "cell_type": "markdown",
   "id": "f5120414",
   "metadata": {},
   "source": [
    "Some empty space ...\n",
    "\n",
    ".\n",
    "\n",
    ".\n",
    "\n",
    ".\n",
    "\n",
    ".\n",
    "\n",
    ".\n",
    "\n",
    ".\n",
    "\n",
    ".\n",
    "\n",
    ".\n",
    "\n",
    ".\n",
    "\n",
    ".\n",
    "\n",
    ".\n",
    "Then we display an indicator widget, that only progresses when the widget above is drawing.\n"
   ]
  },
  {
   "cell_type": "code",
   "execution_count": 5,
   "id": "45a05eb5",
   "metadata": {},
   "outputs": [
    {
     "data": {
      "text/html": [
       "<div class='initial-snapshot-705947e239a84cab848a66080bb16578' style='position:relative;'><img src='data:image/png;base64,iVBORw0KGgoAAAANSUhEUgAAAlgAAABkCAIAAADVI9l0AAABkklEQVR42u3VAQkAIADEwO9fWluIsDvWYdvZ0wDgL0YIQJoRApBmhACkGSEAaUYIQJoRApBmhACkGSEAaUYIQJoRApBmhACkGSEAaUYIQJoRApBmhACkGSEAaUYIQJoRApBmhACkGSEAaUYIQJoRApBmhACkGSEAaUYIQJoRApBmhACkGSEAaUYIQJoRApBmhACkGSEAaUYIQJoRApBmhACkGSEAaUYIQJoRApBmhACkGSEAaUYIQJoRApBmhACkGSEAaUYIQJoRApBmhACkGSEAaUYIQJoRApBmhACkGSEAaUYIQJoRApBmhACkGSEAaUYIQJoRApBmhACkGSEAaUYIQJoRApBmhACkGSEAaUYIQJoRApBmhACkGSEAaUYIQJoRApBmhACkGSEAaUYIQJoRApBmhACkGSEAaUYIQJoRApBmhACkGSEAaUYIQJoRApBmhACkGSEAaUYIQJoRApBmhACkGSEAaUYIQJoRApBmhACkGSEAaUYIQJoRApBmhACkGSEAaUYIQJoRApBmhACEXTgiZl/BtbXuAAAAAElFTkSuQmCC' style='width:600.0px;height:100.0px;' /><div style='position: absolute; top:0; left:0; padding:1px 3px; background: #777; color:#fff; font-size: 90%; font-family:sans-serif; '>initial snapshot</div></div>"
      ],
      "text/plain": [
       "<jupyter_rfb._utils.Snapshot object>"
      ]
     },
     "metadata": {},
     "output_type": "display_data"
    },
    {
     "data": {
      "application/vnd.jupyter.widget-view+json": {
       "model_id": "705947e239a84cab848a66080bb16578",
       "version_major": 2,
       "version_minor": 0
      },
      "text/plain": [
       "IndicatorWidget(css_height='100px', css_width='600px')"
      ]
     },
     "execution_count": 5,
     "metadata": {},
     "output_type": "execute_result"
    }
   ],
   "source": [
    "indicator"
   ]
  },
  {
   "cell_type": "markdown",
   "id": "8183275f",
   "metadata": {},
   "source": [
    "More empty space so there is something to scroll down to ...\n",
    "\n",
    ".\n",
    "\n",
    ".\n",
    "\n",
    ".\n",
    "\n",
    ".\n",
    "\n",
    ".\n",
    "\n",
    ".\n",
    "\n",
    ".\n",
    "\n",
    ".\n",
    "\n",
    ".\n",
    "\n",
    ".\n",
    "\n",
    ".\n",
    "\n",
    "."
   ]
  }
 ],
 "metadata": {
  "kernelspec": {
   "display_name": "Python 3",
   "language": "python",
   "name": "python3"
  },
  "language_info": {
   "codemirror_mode": {
    "name": "ipython",
    "version": 3
   },
   "file_extension": ".py",
   "mimetype": "text/x-python",
   "name": "python",
   "nbconvert_exporter": "python",
   "pygments_lexer": "ipython3",
   "version": "3.9.1"
  }
 },
 "nbformat": 4,
 "nbformat_minor": 5
}
