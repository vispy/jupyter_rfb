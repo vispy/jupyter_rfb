{
 "cells": [
  {
   "cell_type": "markdown",
   "id": "3a254e70",
   "metadata": {},
   "source": [
    "# Visibility check\n",
    "\n",
    "This notebook is to verify that widgets that are not visible do not perform any draws.\n"
   ]
  },
  {
   "cell_type": "code",
   "execution_count": null,
   "id": "367f4c89",
   "metadata": {},
   "outputs": [],
   "source": [
    "import asyncio\n",
    "import numpy as np\n",
    "from jupyter_rfb import RemoteFrameBuffer"
   ]
  },
  {
   "cell_type": "code",
   "execution_count": null,
   "id": "df8d3680",
   "metadata": {},
   "outputs": [],
   "source": [
    "class ProgressBar(RemoteFrameBuffer):\n",
    "    i = 0\n",
    "    n = 32\n",
    "    channel = 0\n",
    "    callback = lambda *args: None\n",
    "\n",
    "    def get_frame(self):\n",
    "        self.callback()\n",
    "        self.i += 1\n",
    "        if self.i >= self.n:\n",
    "            self.i = 0\n",
    "        array = np.zeros((100, 600, 3), np.uint8)\n",
    "        array[:, : int(array.shape[1] * (self.i + 1) / self.n), self.channel] = 255\n",
    "        return array\n",
    "\n",
    "\n",
    "class AutoDrawWidget(ProgressBar):\n",
    "    channel = 2  # blue\n",
    "\n",
    "    def __init__(self, **kwargs):\n",
    "        super().__init__(**kwargs)\n",
    "        loop = asyncio.get_event_loop()\n",
    "        loop.create_task(self._keep_at_it())\n",
    "\n",
    "    async def _keep_at_it(self):\n",
    "        while True:\n",
    "            await asyncio.sleep(0.5)\n",
    "            self.request_draw()\n",
    "\n",
    "\n",
    "class IndicatorWidget(ProgressBar):\n",
    "    channel = 1  # green\n",
    "\n",
    "\n",
    "indicator = IndicatorWidget(css_width=\"600px\", css_height=\"100px\")\n",
    "autodraw = AutoDrawWidget(css_width=\"600px\", css_height=\"100px\")\n",
    "autodraw.callback = lambda *args: indicator.request_draw()"
   ]
  },
  {
   "cell_type": "markdown",
   "id": "9bc5e9ba",
   "metadata": {},
   "source": [
    "We display a widget that automatically keeps progressing. Actually, we create two views of that widgets to make sure that this works for multiple views."
   ]
  },
  {
   "cell_type": "code",
   "execution_count": null,
   "id": "47cc2c4d",
   "metadata": {},
   "outputs": [],
   "source": [
    "autodraw"
   ]
  },
  {
   "cell_type": "code",
   "execution_count": null,
   "id": "b6e695ef",
   "metadata": {},
   "outputs": [],
   "source": [
    "autodraw"
   ]
  },
  {
   "cell_type": "markdown",
   "id": "f5120414",
   "metadata": {},
   "source": [
    "Some empty space ...\n",
    "\n",
    ".\n",
    "\n",
    ".\n",
    "\n",
    ".\n",
    "\n",
    ".\n",
    "\n",
    ".\n",
    "\n",
    ".\n",
    "\n",
    ".\n",
    "\n",
    ".\n",
    "\n",
    ".\n",
    "\n",
    ".\n",
    "\n",
    ".\n",
    "Then we display an indicator widget, that only progresses when the widget above is drawing.\n"
   ]
  },
  {
   "cell_type": "code",
   "execution_count": null,
   "id": "45a05eb5",
   "metadata": {},
   "outputs": [],
   "source": [
    "indicator"
   ]
  },
  {
   "cell_type": "markdown",
   "id": "8183275f",
   "metadata": {},
   "source": [
    "More empty space so there is something to scroll down to ...\n",
    "\n",
    ".\n",
    "\n",
    ".\n",
    "\n",
    ".\n",
    "\n",
    ".\n",
    "\n",
    ".\n",
    "\n",
    ".\n",
    "\n",
    ".\n",
    "\n",
    ".\n",
    "\n",
    ".\n",
    "\n",
    ".\n",
    "\n",
    ".\n",
    "\n",
    "."
   ]
  }
 ],
 "metadata": {
  "kernelspec": {
   "display_name": "Python 3 (ipykernel)",
   "language": "python",
   "name": "python3"
  },
  "language_info": {
   "codemirror_mode": {
    "name": "ipython",
    "version": 3
   },
   "file_extension": ".py",
   "mimetype": "text/x-python",
   "name": "python",
   "nbconvert_exporter": "python",
   "pygments_lexer": "ipython3",
   "version": "3.9.9"
  }
 },
 "nbformat": 4,
 "nbformat_minor": 5
}
