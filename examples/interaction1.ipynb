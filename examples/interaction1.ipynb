{
 "cells": [
  {
   "cell_type": "markdown",
   "id": "5c8c5b03",
   "metadata": {},
   "source": [
    "# Interaction example\n",
    "\n",
    "In this example we implement a simple interaction use-case. This lets you get a feel for the performance (FPS, lag). Note that the snappyness will depend on where the server is (e.g. localhost will work better than MyBinder).\n",
    "\n",
    "The app presents a dark background with cyan square that can be dragged around."
   ]
  },
  {
   "cell_type": "code",
   "execution_count": null,
   "id": "a1297418",
   "metadata": {},
   "outputs": [],
   "source": [
    "import numpy as np\n",
    "import jupyter_rfb"
   ]
  },
  {
   "cell_type": "code",
   "execution_count": null,
   "id": "c7d172bd",
   "metadata": {},
   "outputs": [],
   "source": [
    "class InteractionApp(jupyter_rfb.RemoteFrameBuffer):\n",
    "    \n",
    "    def __init__(self):\n",
    "        super().__init__()\n",
    "        self.css_width = \"600px\"\n",
    "        self.css_height = \"350px\"\n",
    "        self._size = (1, 1, 1)\n",
    "        self._pos = 100, 100\n",
    "        self._radius = 20\n",
    "        self._drag_pos = None\n",
    "    \n",
    "    def handle_event(self, event):\n",
    "        event_type = event.get(\"event_type\", None)\n",
    "        if event_type == \"resize\":            \n",
    "            self._size = event[\"width\"], event[\"height\"], event[\"pixel_ratio\"]           \n",
    "        elif event_type == \"pointer_down\" and event[\"button\"] == 1:\n",
    "            x, y = event[\"x\"], event[\"y\"]\n",
    "            if abs(x - self._pos[0]) < self._radius and abs(y - self._pos[1]) < self._radius:\n",
    "                self._drag_pos = self._pos[0] - x, self._pos[1] - y\n",
    "            self.request_draw()\n",
    "        elif event_type == \"pointer_up\":\n",
    "            self._drag_pos = None\n",
    "            self.request_draw()\n",
    "        elif event_type == \"pointer_move\" and self._drag_pos is not None:\n",
    "            self._pos = self._drag_pos[0] + event[\"x\"], self._drag_pos[1] + event[\"y\"]\n",
    "            self.request_draw()\n",
    "    \n",
    "    def get_frame(self):         \n",
    "        ratio = self._size[2]\n",
    "        radius = self._radius\n",
    "        w, h = int(self._size[0] * ratio), int(self._size[1] * ratio)\n",
    "        array = np.zeros((h, w, 3), np.uint8)\n",
    "        array[\n",
    "            int(ratio * (self._pos[1] - radius)):int(ratio * (self._pos[1] + radius)),\n",
    "            int(ratio * (self._pos[0] - radius)):int(ratio * (self._pos[0] + radius)),\n",
    "            1:3] = 250 if self._drag_pos else 150\n",
    "        return array\n",
    "\n",
    "    \n",
    "w = InteractionApp()\n",
    "w.max_buffered_frames = 4\n",
    "w"
   ]
  },
  {
   "cell_type": "markdown",
   "id": "5fd9316e",
   "metadata": {},
   "source": [
    "To get some quantative resuls, run ``reset_stats()``, interact, and then call ``get_stats()``."
   ]
  },
  {
   "cell_type": "code",
   "execution_count": null,
   "id": "2dd857a7",
   "metadata": {},
   "outputs": [],
   "source": [
    "w.reset_stats()"
   ]
  },
  {
   "cell_type": "code",
   "execution_count": null,
   "id": "082fa326",
   "metadata": {},
   "outputs": [],
   "source": [
    "w.get_stats()"
   ]
  }
 ],
 "metadata": {
  "kernelspec": {
   "display_name": "Python 3",
   "language": "python",
   "name": "python3"
  },
  "language_info": {
   "codemirror_mode": {
    "name": "ipython",
    "version": 3
   },
   "file_extension": ".py",
   "mimetype": "text/x-python",
   "name": "python",
   "nbconvert_exporter": "python",
   "pygments_lexer": "ipython3",
   "version": "3.9.1"
  }
 },
 "nbformat": 4,
 "nbformat_minor": 5
}
