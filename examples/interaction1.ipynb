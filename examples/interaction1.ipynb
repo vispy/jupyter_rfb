{
 "cells": [
  {
   "cell_type": "markdown",
   "id": "5c8c5b03",
   "metadata": {},
   "source": [
    "# Interaction example\n",
    "\n",
    "In this example we implement a simple interaction use-case. This lets you get a feel for the performance (FPS, lag). Note that the snappyness will depend on where the server is (e.g. localhost will work better than MyBinder).\n",
    "\n",
    "The app presents a dark background with cyan square that can be dragged around."
   ]
  },
  {
   "cell_type": "code",
   "execution_count": 1,
   "id": "a1297418",
   "metadata": {},
   "outputs": [],
   "source": [
    "import numpy as np\n",
    "import jupyter_rfb"
   ]
  },
  {
   "cell_type": "code",
   "execution_count": 2,
   "id": "c7d172bd",
   "metadata": {},
   "outputs": [
    {
     "data": {
      "application/vnd.jupyter.widget-view+json": {
       "model_id": "216a3a9b96cf4516b5672cd5ada95a48",
       "version_major": 2,
       "version_minor": 0
      },
      "text/plain": [
       "RFBOutputContext()"
      ]
     },
     "metadata": {},
     "output_type": "display_data"
    },
    {
     "data": {
      "application/vnd.jupyter.widget-view+json": {
       "model_id": "fe50a182a0d342bfad7639c071c30f3c",
       "version_major": 2,
       "version_minor": 0
      },
      "text/html": [
       "<div class='snapshot-fe50a182a0d342bfad7639c071c30f3c' style='position:relative;'><img src='data:image/png;base64,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' style='width:500.0px;height:300.0px;' /><div style='position: absolute; top:0; left:0; padding:1px 3px; background: #777; color:#fff; font-size: 90%; font-family:sans-serif; '>snapshot</div></div>"
      ],
      "text/plain": [
       "InteractionApp()"
      ]
     },
     "execution_count": 2,
     "metadata": {},
     "output_type": "execute_result"
    }
   ],
   "source": [
    "class InteractionApp(jupyter_rfb.RemoteFrameBuffer):\n",
    "    def __init__(self):\n",
    "        super().__init__()\n",
    "        self._size = (1, 1, 1)\n",
    "        self._pos = 100, 100\n",
    "        self._radius = 20\n",
    "        self._drag_pos = None\n",
    "\n",
    "    def handle_event(self, event):\n",
    "        event_type = event.get(\"event_type\", None)\n",
    "        if event_type == \"resize\":\n",
    "            self._size = event[\"width\"], event[\"height\"], event[\"pixel_ratio\"]\n",
    "        elif event_type == \"pointer_down\" and event[\"button\"] == 1:\n",
    "            x, y = event[\"x\"], event[\"y\"]\n",
    "            if (\n",
    "                abs(x - self._pos[0]) < self._radius\n",
    "                and abs(y - self._pos[1]) < self._radius\n",
    "            ):\n",
    "                self._drag_pos = self._pos[0] - x, self._pos[1] - y\n",
    "            self.request_draw()\n",
    "        elif event_type == \"pointer_up\":\n",
    "            self._drag_pos = None\n",
    "            self.request_draw()\n",
    "        elif event_type == \"pointer_move\" and self._drag_pos is not None:\n",
    "            self._pos = self._drag_pos[0] + event[\"x\"], self._drag_pos[1] + event[\"y\"]\n",
    "            self.request_draw()\n",
    "\n",
    "    def get_frame(self):\n",
    "        ratio = self._size[2]\n",
    "        radius = self._radius\n",
    "        w, h = int(self._size[0] * ratio), int(self._size[1] * ratio)\n",
    "        array = np.zeros((h, w, 3), np.uint8)\n",
    "        array[:, :, 2] = np.linspace(50, 200, h).reshape(-1, 1)  # bg gradient\n",
    "        array[\n",
    "            int(ratio * (self._pos[1] - radius)) : int(ratio * (self._pos[1] + radius)),\n",
    "            int(ratio * (self._pos[0] - radius)) : int(ratio * (self._pos[0] + radius)),\n",
    "            1,\n",
    "        ] = 250 if self._drag_pos else 200\n",
    "        return array\n",
    "\n",
    "\n",
    "w = InteractionApp()\n",
    "w.max_buffered_frames = 2\n",
    "w"
   ]
  },
  {
   "cell_type": "markdown",
   "id": "b7010f8e",
   "metadata": {},
   "source": [
    "You can now interact with the figure by dragging the square to another position."
   ]
  },
  {
   "cell_type": "code",
   "execution_count": 3,
   "id": "75112087",
   "metadata": {},
   "outputs": [],
   "source": [
    "# Or we can do that programatically :)\n",
    "w.handle_event({\"event_type\": \"pointer_down\", \"button\": 1, \"x\": 100, \"y\": 100})\n",
    "w.handle_event({\"event_type\": \"pointer_move\", \"button\": 1, \"x\": 200, \"y\": 200})\n",
    "w.handle_event({\"event_type\": \"pointer_up\", \"button\": 1, \"x\": 200, \"y\": 200})"
   ]
  },
  {
   "cell_type": "code",
   "execution_count": 4,
   "id": "7cd81a00",
   "metadata": {},
   "outputs": [
    {
     "data": {
      "text/html": [
       "<div class='snapshot-fe50a182a0d342bfad7639c071c30f3c' style='position:relative;'><img src='data:image/png;base64,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' style='width:500.0px;height:300.0px;' /><div style='position: absolute; top:0; left:0; padding:1px 3px; background: #777; color:#fff; font-size: 90%; font-family:sans-serif; '>snapshot</div></div>"
      ],
      "text/plain": [
       "<jupyter_rfb._utils.Snapshot object>"
      ]
     },
     "execution_count": 4,
     "metadata": {},
     "output_type": "execute_result"
    }
   ],
   "source": [
    "w.snapshot()"
   ]
  },
  {
   "cell_type": "markdown",
   "id": "5fd9316e",
   "metadata": {},
   "source": [
    "To get some quantative resuls, run ``reset_stats()``, interact, and then call ``get_stats()``."
   ]
  },
  {
   "cell_type": "code",
   "execution_count": 5,
   "id": "2dd857a7",
   "metadata": {},
   "outputs": [],
   "source": [
    "w.reset_stats()"
   ]
  },
  {
   "cell_type": "code",
   "execution_count": 6,
   "id": "082fa326",
   "metadata": {},
   "outputs": [
    {
     "data": {
      "text/plain": [
       "{'sent_frames': 0,\n",
       " 'confirmed_frames': 0,\n",
       " 'roundtrip': 0.0,\n",
       " 'delivery': 0.0,\n",
       " 'img_encoding': 0.0,\n",
       " 'b64_encoding': 0.0,\n",
       " 'fps': 0.0}"
      ]
     },
     "execution_count": 6,
     "metadata": {},
     "output_type": "execute_result"
    }
   ],
   "source": [
    "w.get_stats()"
   ]
  },
  {
   "cell_type": "code",
   "execution_count": null,
   "id": "b366c263",
   "metadata": {},
   "outputs": [],
   "source": []
  }
 ],
 "metadata": {
  "kernelspec": {
   "display_name": "Python 3 (ipykernel)",
   "language": "python",
   "name": "python3"
  },
  "language_info": {
   "codemirror_mode": {
    "name": "ipython",
    "version": 3
   },
   "file_extension": ".py",
   "mimetype": "text/x-python",
   "name": "python",
   "nbconvert_exporter": "python",
   "pygments_lexer": "ipython3",
   "version": "3.9.9"
  }
 },
 "nbformat": 4,
 "nbformat_minor": 5
}
