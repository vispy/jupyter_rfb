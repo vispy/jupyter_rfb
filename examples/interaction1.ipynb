{
 "cells": [
  {
   "cell_type": "markdown",
   "id": "5c8c5b03",
   "metadata": {},
   "source": [
    "# Interaction example\n",
    "\n",
    "In this example we implement a simple interaction use-case. This lets you get a feel for the performance (FPS, lag). Note that the snappyness will depend on where the server is (e.g. localhost will work better than MyBinder).\n",
    "\n",
    "The app presents a dark background with cyan square that can be dragged around."
   ]
  },
  {
   "cell_type": "code",
   "execution_count": 1,
   "id": "a1297418",
   "metadata": {},
   "outputs": [],
   "source": [
    "import numpy as np\n",
    "import jupyter_rfb"
   ]
  },
  {
   "cell_type": "code",
   "execution_count": 2,
   "id": "c7d172bd",
   "metadata": {},
   "outputs": [
    {
     "data": {
      "application/vnd.jupyter.widget-view+json": {
       "model_id": "ff46992cca684d40ae3c4d7cd2b0dbe7",
       "version_major": 2,
       "version_minor": 0
      },
      "text/plain": [
       "OutputContext()"
      ]
     },
     "metadata": {},
     "output_type": "display_data"
    },
    {
     "data": {
      "text/html": [
       "<div class='initial-snapshot-b3b0e04cb11d4085ad67482ef321b709' style='position:relative;'><img src='data:image/png;base64,iVBORw0KGgoAAAANSUhEUgAAAfQAAAEsCAIAAAC62dafAAAFx0lEQVR42u3UVRIFVhVE0R4TTnAS\n",
       "3DW4uwZ3DxDcE9zd3V3fsJjEqddV566qNYDdP53kTgCs0y8AYFzuDMA6/QIAxuUuAKzTLwBgXO4K\n",
       "wDr9AgDG5W4ArNMvAGBc7g7AOv0CAMblHgCs0y8AYFzuCcA6/QIAxuUGANbpFwAwLvcCYJ1+AQDj\n",
       "cm8A1ukXADAu9wFgnX4BAONyXwDW6RcAMC73A2CdfgEA43J/ANbpFwAwLg8AYJ1+AQDj8kAA1ukX\n",
       "ADAuNwKwTr8AgHG5CYB1+gUAjMuDAFinXwDAuDwYgHX6BQCMy0MAWKdfAMC4PBSAdfoFAIzLwwBY\n",
       "p18AwLg8HIB1+gUAjMsjAFinXwDAuDwSgHX6BQCMy6MAWKdfAMC4PBqAdfoFAIzLYwBYp18AwLg8\n",
       "FoB1+gUAjMvjAFinXwDAuDwegHX6BQCMyxMAWKdfAMC4PBGAdfoFAIzLkwBYp18AwLg8GYB1+gUA\n",
       "jMvNAKzTLwBgXJ4CwDr9AgDG5akArNMvAGBcnnaWS0l9OHCWfsF1OXfgCHn6WS4l9eHAWfoF1+Xc\n",
       "gSPkGWe5lNSHA2fpF1yXcweOkGee5VJSHw6cpV9wXc4dOEKedZZLSX04cJZ+wXU5d+AIefZZLiX1\n",
       "4cBZ+gXX5dyBI+Q5Z7mU1IcDZ+kXXJdzB46Q557lUlIfDpylX3Bdzh04Qp53lktJfThwln7BdTl3\n",
       "4Ah5/lkuJfXhwFn6Bdfl3IEj5AVnuZTUhwNn6Rdcl3MHjpAXnuVSUh8OnKVfcF3OHThCXnSWS0l9\n",
       "OHCWfsF1OXfgCHnxWS4l9eHAWfoF1+XcgSPkJWe5lNSHA2fpF1yXcweOkJee5VJSHw6cpV9wXc4d\n",
       "OEJedpZLSX04cJZ+wXU5d+AIeflZLiX14cBZ+gXX5dyBI+QVZ7mU1IcDZ+kXXJdzB46QV57lUlIf\n",
       "DpylX3Bdzh04Ql4FwDr9AgDG5dUArNMvAGBcbgFgnX4BAOPyGgDW6RcAMC6vBWCdfgEA4/I6ANbp\n",
       "FwAwLq8HYJ1+AQDj8gYA1ukXADAubwRgnX4BAOPyJgDW6RcAMC5vBmCdfgEA4/IWANbpFwAwLm8F\n",
       "YJ1+AQDj8jYA1ukXADAubwdgnX4BAOPyDgDW6RcAMC7vBGCdfgEA4/IuANbpFwAwLu8GYJ1+AQDj\n",
       "8h4A1ukXADAu7wVgnX4BAOPyPgDW6RcAMC63ArBOvwCAcXk/AOv0CwAYlw8AsE6/AIBx+SAA6/QL\n",
       "ABiX2wBYp18AwLh8CIB1+gUAjMuHAVinXwDAuHwEgHX6BQCMy0cBWKdfAMC4fAyAdfoFAIzLxwFY\n",
       "p18AwLh8AoB1+gUAjMsnAVinXwDAuHwKgHX6BQCMy6cBWKdfAMC4fAaAdfoFAIzLZwFYp18AwLh8\n",
       "DoB1+gUAjMvtAKzTLwBgXO4AYJ1+AQDj8nkA1ukXADAuXwBgnX4BAOPyRQDW6RcAMC5fAmCdfgEA\n",
       "4/JlANbpFwAwLl8BYJ1+AQDj8lUA1ukXADAuXwNgnX4BAOPydQDW6RcAMC7fAGCdfgEA4/JNANbp\n",
       "FwAwLt8CYJ1+AQDj8m0A1ukXADAu3wFgnX4BAOPyXQDW6RcAMC7fA2CdfgEA4/J9ANbpFwAwLj8A\n",
       "YJ1+AQDj8kMA1ukXADAuPwJgnX4BAOPyYwDW6RcAMC4/AWCdfgEA4/JTANbpFwAwLj8DYJ1+AQDj\n",
       "8nMA1ukXADAuvwBgnX4BAOPySwDW6RcAMC6/AmCdfgEA4/JrANbpFwAwLr8BYJ1+AQDj8lsA1ukX\n",
       "ADAuvwNgnX4BAOPyewDW6RcAMC5/AGCdfgEA4/JHANbpFwAwLn8CYJ1+AQDj8mcA1ukXADAufwFg\n",
       "nX4BAOPyVwDW6RcAMC5/A2CdfgEA4/J3ANbpFwAwLv8AYJ1+AQDj8k8A1ukXADAu/wJgnX4BAOPy\n",
       "bwDW6RcAMC7/AWCdfgEA4/JfANbpFwAwLv8DYJ1cAFjm/zMo6hyfBFKgAAAAAElFTkSuQmCC\n",
       "' style='width:500.0px;height:300.0px;' /><div style='position: absolute; top:0; left:0; padding:1px 3px; background: #777; color:#fff; font-size: 90%; font-family:sans-serif; '>initial snapshot</div></div>"
      ],
      "text/plain": [
       "<jupyter_rfb.widget.Snapshot at 0x279fc842580>"
      ]
     },
     "metadata": {},
     "output_type": "display_data"
    },
    {
     "data": {
      "application/vnd.jupyter.widget-view+json": {
       "model_id": "b3b0e04cb11d4085ad67482ef321b709",
       "version_major": 2,
       "version_minor": 0
      },
      "text/plain": [
       "InteractionApp()"
      ]
     },
     "execution_count": 2,
     "metadata": {},
     "output_type": "execute_result"
    }
   ],
   "source": [
    "class InteractionApp(jupyter_rfb.RemoteFrameBuffer):\n",
    "    \n",
    "    def __init__(self):\n",
    "        super().__init__()\n",
    "        self._size = (1, 1, 1)\n",
    "        self._pos = 100, 100\n",
    "        self._radius = 20\n",
    "        self._drag_pos = None\n",
    "    \n",
    "    def handle_event(self, event):\n",
    "        event_type = event.get(\"event_type\", None)\n",
    "        if event_type == \"resize\":            \n",
    "            self._size = event[\"width\"], event[\"height\"], event[\"pixel_ratio\"]           \n",
    "        elif event_type == \"pointer_down\" and event[\"button\"] == 1:\n",
    "            x, y = event[\"x\"], event[\"y\"]\n",
    "            if abs(x - self._pos[0]) < self._radius and abs(y - self._pos[1]) < self._radius:\n",
    "                self._drag_pos = self._pos[0] - x, self._pos[1] - y\n",
    "            self.request_draw()\n",
    "        elif event_type == \"pointer_up\":\n",
    "            self._drag_pos = None\n",
    "            self.request_draw()\n",
    "        elif event_type == \"pointer_move\" and self._drag_pos is not None:\n",
    "            self._pos = self._drag_pos[0] + event[\"x\"], self._drag_pos[1] + event[\"y\"]\n",
    "            self.request_draw()\n",
    "    \n",
    "    def get_frame(self):         \n",
    "        ratio = self._size[2]\n",
    "        radius = self._radius\n",
    "        w, h = int(self._size[0] * ratio), int(self._size[1] * ratio)\n",
    "        array = np.zeros((h, w, 3), np.uint8)\n",
    "        array[:,:,2] = np.linspace(50, 200, h).reshape(-1, 1)  # bg gradient\n",
    "        array[\n",
    "            int(ratio * (self._pos[1] - radius)):int(ratio * (self._pos[1] + radius)),\n",
    "            int(ratio * (self._pos[0] - radius)):int(ratio * (self._pos[0] + radius)),\n",
    "            1] = 250 if self._drag_pos else 200\n",
    "        return array\n",
    "\n",
    "    \n",
    "w = InteractionApp()\n",
    "w.max_buffered_frames = 2\n",
    "w"
   ]
  },
  {
   "cell_type": "markdown",
   "id": "b7010f8e",
   "metadata": {},
   "source": [
    "You can now interact with the figure by dragging the square to another position."
   ]
  },
  {
   "cell_type": "code",
   "execution_count": 4,
   "id": "7cd81a00",
   "metadata": {},
   "outputs": [
    {
     "data": {
      "text/html": [
       "<div class='snapshot-b3b0e04cb11d4085ad67482ef321b709' style='position:relative;'><img src='data:image/png;base64,iVBORw0KGgoAAAANSUhEUgAAAfQAAAEsCAIAAAC62dafAAAF0UlEQVR42u3UVRJFBxVE0R4T7pbg\n",
       "rkGCuwd3SCBIcHd3d3fnDotJnHe76rxVtQaw+6eT3AmAdfoFAIzLnQFYp18AwLjcBYB1+gUAjMtd\n",
       "AVinXwDAuNwNgHX6BQCMy90BWKdfAMC43AOAdfoFAIzLPQFYp18AwLjcC4B1+gUAjMu9AVinXwDA\n",
       "uNwHgHX6BQCMy30BWKdfAMC43A+AdfoFAIzL/QFYp18AwLg8AIB1+gUAjMsDAVinXwDAuDwIgHX6\n",
       "BQCMyw0ArNMvAGBcbgRgnX4BAOPyYADW6RcAMC4PAWCdfgEA4/JQANbpFwAwLg8DYJ1+AQDj8nAA\n",
       "1ukXADAujwBgnX4BAOPySADW6RcAMC6PAmCdfgEA4/JoANbpFwAwLo8BYJ1+AQDj8lgA1ukXADAu\n",
       "jwNgnX4BAOPyeADW6RcAMC5PAGCdfgEA4/JEANbpFwAwLk8CYJ1+AQDj8mQA1ukXADAuTwFgnX4B\n",
       "AONyEwDr9AsAGJenArBOvwCAcXkaAOv0CwAYl6cDsE6/AIBxeQYA6/QLABiXmwFYp18AwLg8E4B1\n",
       "+gUAjMuzAFinXwDAuDwbgHX6BQCMy3MAWKdfAMC4PBeAdfoFAIzL8wBYp18AwLg8H4B1+gUAjMsL\n",
       "AFinXwDAuLwQgHX6BQCMy4sAWKdfAMC4vBiAdfoFAIzLSwBYp18AwLi8FIB1+gUAjMvLAFinXwDA\n",
       "uLwcgHX6BQCMyysAWKdfAMC4vBKAdfoFAIzLqwBYp18AwLi8GoB1+gUAjMstAKzTLwBgXF4DwDr9\n",
       "AgDG5bUArNMvAGBcXgfAOv0CAMbl9QCs0y8AYFzeAMA6/QIAxuWNAKzTLwBgXN4EwDr9AgDG5c0A\n",
       "rNMvAGBc3gLAOv0CAMblrQCs0y8AYFzeBsA6/QIAxuXtAKzTLwBgXN4BwDr9AgDG5Z0ArNMvAGBc\n",
       "3gXAOv0CAMblVgDW6RcAMC63AbBOvwCAcXk3AOv0CwAYl/cAsE6/AIBxuR2AdfoFAIzLewFYp18A\n",
       "wLi8D4B1+gUAjMv7AVinXwDAuHwAgHX6BQCMyx0ArNMvAGBcPgjAOv0CAMblQwCs0y8AYFw+DMA6\n",
       "/QIAxuUjAKzTL4Drc5TUh3OefBQ421FSH855+gVwfZw7F5ePAWc7SurDOU+/AK6Pc+fi8nHgbEdJ\n",
       "fTjn6RfA9XHuXFw+AZztKKkP5zz9Arg+zp2LyyeBsx0l9eGcp18A18e5c3H5FHC2o6Q+nPP0C+D6\n",
       "OHcuLp8GznaU1Idznn4BXB/nzsXlM8DZjpL6cM7TL4Dr49y5uHwWONtRUh/OefoFcH2cOxeXzwFn\n",
       "O0rqwzlPvwCuj3Pn4vJ54GxHSX045+kXwPVx7lxcvgCc7SipD+c8/QK4Ps6di8sXgbMdJfXhnKdf\n",
       "ANfHuXNx+RJwtqOkPpzz9Avg+jh3Li5fBs52lNSHc55+AVwf587F5SvA2Y6S+nDO0y+A6+Pcubh8\n",
       "FTjbUVIfznn6BXB9nDsXl68BZztK6sM5T78Aro9z5+LydeBsR0l9OOfpF8D1ce5cXL4BnO0oqQ/n\n",
       "PP0CAMblmwCs0y8AYFy+BcA6/QIAxuXbAKzTLwBgXL4DwDr9AgDG5bsArNMvAGBcvgfAOv0CAMbl\n",
       "+wCs0y8AYFx+AMA6/QIAxuWHAKzTLwBgXH4EwDr9AgDG5ccArNMvAGBcfgLAOv0CAMblpwCs0y8A\n",
       "YFx+BsA6/QIAxuXnAKzTLwBgXH4BwDr9AgDG5ZcArNMvAGBcfgXAOv0CAMbl1wCs0y8AYFx+A8A6\n",
       "/QIAxuW3AKzTLwBgXH4HwDr9AgDG5fcArNMvAGBc/gDAOv0CAMbljwCs0y8AYFz+BMA6/QIAxuXP\n",
       "AKzTLwBgXP4CwDr9AgDG5a8ArNMvAGBc/gbAOv0CAMbl7wCs0y8AYFz+AcA6/QIAxuWfAKzTLwBg\n",
       "XP4FwDr9AgDG5d8ArNMvAGBc/gPAOv0CAMblvwCs0y8AYFz+B8A6OQBY5v8hU+ocWj0W/AAAAABJ\n",
       "RU5ErkJggg==\n",
       "' style='width:500px;height:300px;' /><div style='position: absolute; top:0; left:0; padding:1px 3px; background: #777; color:#fff; font-size: 90%; font-family:sans-serif; '>snapshot</div></div>"
      ],
      "text/plain": [
       "<jupyter_rfb.widget.Snapshot at 0x279d434f490>"
      ]
     },
     "execution_count": 4,
     "metadata": {},
     "output_type": "execute_result"
    }
   ],
   "source": [
    "w.snapshot()"
   ]
  },
  {
   "cell_type": "markdown",
   "id": "5fd9316e",
   "metadata": {},
   "source": [
    "To get some quantative resuls, run ``reset_stats()``, interact, and then call ``get_stats()``."
   ]
  },
  {
   "cell_type": "code",
   "execution_count": 5,
   "id": "2dd857a7",
   "metadata": {},
   "outputs": [],
   "source": [
    "w.reset_stats()"
   ]
  },
  {
   "cell_type": "code",
   "execution_count": 6,
   "id": "082fa326",
   "metadata": {},
   "outputs": [
    {
     "data": {
      "text/plain": [
       "{'sent_frames': 0,\n",
       " 'confirmed_frames': 0,\n",
       " 'roundtrip': 0.0,\n",
       " 'delivery': 0.0,\n",
       " 'img_encoding': 0.0,\n",
       " 'b64_encoding': 0.0,\n",
       " 'fps': 0.0}"
      ]
     },
     "execution_count": 6,
     "metadata": {},
     "output_type": "execute_result"
    }
   ],
   "source": [
    "w.get_stats()"
   ]
  },
  {
   "cell_type": "code",
   "execution_count": null,
   "id": "b366c263",
   "metadata": {},
   "outputs": [],
   "source": []
  }
 ],
 "metadata": {
  "kernelspec": {
   "display_name": "Python 3",
   "language": "python",
   "name": "python3"
  },
  "language_info": {
   "codemirror_mode": {
    "name": "ipython",
    "version": 3
   },
   "file_extension": ".py",
   "mimetype": "text/x-python",
   "name": "python",
   "nbconvert_exporter": "python",
   "pygments_lexer": "ipython3",
   "version": "3.9.1"
  }
 },
 "nbformat": 4,
 "nbformat_minor": 5
}
