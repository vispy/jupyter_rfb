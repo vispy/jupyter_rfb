{
 "cells": [
  {
   "cell_type": "markdown",
   "id": "f6315c1a",
   "metadata": {},
   "source": [
    "# Embedding in an ipywidgets app\n",
    "\n",
    "In this example we demonstrate embedding the ``RemoteFrameBuffer`` class inside a larger ipywidgets app."
   ]
  },
  {
   "cell_type": "code",
   "execution_count": null,
   "id": "eb328d8f",
   "metadata": {},
   "outputs": [],
   "source": [
    "import numpy as np\n",
    "import ipywidgets\n",
    "import jupyter_rfb"
   ]
  },
  {
   "cell_type": "markdown",
   "id": "627cd505",
   "metadata": {},
   "source": [
    "Implement a simple RFB class, for the sake of the example:"
   ]
  },
  {
   "cell_type": "code",
   "execution_count": null,
   "id": "7691480a",
   "metadata": {},
   "outputs": [],
   "source": [
    "class SimpleRFB(jupyter_rfb.RemoteFrameBuffer):\n",
    "   \n",
    "    green_value = 200\n",
    "    \n",
    "    def get_frame(self):\n",
    "        a = np.zeros((100, 100, 3), np.uint8)\n",
    "        a[20:-20,20:-20,1] = self.green_value\n",
    "        return a   "
   ]
  },
  {
   "cell_type": "markdown",
   "id": "91b9bcd3",
   "metadata": {},
   "source": [
    "Compose a simple app:"
   ]
  },
  {
   "cell_type": "code",
   "execution_count": null,
   "id": "45578bd6",
   "metadata": {},
   "outputs": [],
   "source": [
    "slider = ipywidgets.IntSlider(min=50, max=255, value=200)\n",
    "rfb = SimpleRFB()\n",
    "\n",
    "def on_slider_change(change):\n",
    "    rfb.green_value = change[\"new\"]\n",
    "    rfb.request_draw()\n",
    "    \n",
    "slider.observe(on_slider_change, names='value')\n",
    "ipywidgets.HBox([rfb, slider])"
   ]
  },
  {
   "cell_type": "code",
   "execution_count": null,
   "id": "e7ee8d86-ab48-4e1d-8279-6bfbd53e5056",
   "metadata": {},
   "outputs": [],
   "source": []
  }
 ],
 "metadata": {
  "kernelspec": {
   "display_name": "Python 3",
   "language": "python",
   "name": "python3"
  },
  "language_info": {
   "codemirror_mode": {
    "name": "ipython",
    "version": 3
   },
   "file_extension": ".py",
   "mimetype": "text/x-python",
   "name": "python",
   "nbconvert_exporter": "python",
   "pygments_lexer": "ipython3",
   "version": "3.9.1"
  }
 },
 "nbformat": 4,
 "nbformat_minor": 5
}
