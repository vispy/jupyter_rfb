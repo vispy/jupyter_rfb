{
 "cells": [
  {
   "cell_type": "markdown",
   "id": "28b38e38",
   "metadata": {},
   "source": [
    "# Drawing example\n",
    "\n",
    "A simple drawing app:\n",
    "\n",
    "* Draw dots by clicking with LMB.\n",
    "* Toggle color by clicking RMB."
   ]
  },
  {
   "cell_type": "code",
   "execution_count": null,
   "id": "47315bf0",
   "metadata": {},
   "outputs": [],
   "source": [
    "import numpy as np\n",
    "import jupyter_rfb"
   ]
  },
  {
   "cell_type": "code",
   "execution_count": null,
   "id": "fb037e0b",
   "metadata": {},
   "outputs": [],
   "source": [
    "class Drawingapp(jupyter_rfb.RemoteFrameBuffer):\n",
    "    \n",
    "    def __init__(self):\n",
    "        super().__init__()\n",
    "        self.css_height = \"500px\"\n",
    "        self.pixel_ratio = 1\n",
    "        self.array = np.zeros((1, 1, 4), np.uint8)\n",
    "        self.pen_colors = [(1, 0.2, 0, 1), (0, 1, 0.2, 1), (0.2, 0, 1, 1)]\n",
    "        self.pen_index = 0        \n",
    "    \n",
    "    def handle_event(self, event):\n",
    "        event_type = event.get(\"event_type\", None)\n",
    "        if event_type == \"resize\":\n",
    "            # Take pixel ratio into account, use 8x less pixels (in each dim)\n",
    "            self.pixel_ratio = event[\"pixel_ratio\"] / 8\n",
    "            w = int(event[\"width\"] * self.pixel_ratio)\n",
    "            h = int(event[\"height\"] * self.pixel_ratio)\n",
    "            self.array = np.zeros((h, w, 4), np.uint8)\n",
    "        if event_type == \"pointer_down\":\n",
    "            if event[\"button\"] == 1:\n",
    "                # Draw\n",
    "                x = int(event[\"x\"] * self.pixel_ratio)\n",
    "                y = int(event[\"y\"] * self.pixel_ratio)\n",
    "                self.array[y, x] = 255 * np.array(self.pen_colors[self.pen_index])\n",
    "                self.request_draw()\n",
    "            elif event[\"button\"] == 2:\n",
    "                # Toggle color\n",
    "                self.pen_index = (self.pen_index + 1) % len(self.pen_colors)\n",
    "    \n",
    "    def get_frame(self):\n",
    "        return self.array\n",
    "        \n",
    "\n",
    "app = Drawingapp()\n",
    "app"
   ]
  }
 ],
 "metadata": {
  "kernelspec": {
   "display_name": "Python 3",
   "language": "python",
   "name": "python3"
  },
  "language_info": {
   "codemirror_mode": {
    "name": "ipython",
    "version": 3
   },
   "file_extension": ".py",
   "mimetype": "text/x-python",
   "name": "python",
   "nbconvert_exporter": "python",
   "pygments_lexer": "ipython3",
   "version": "3.9.1"
  }
 },
 "nbformat": 4,
 "nbformat_minor": 5
}
